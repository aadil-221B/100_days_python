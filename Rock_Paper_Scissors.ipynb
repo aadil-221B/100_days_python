{
 "cells": [
  {
   "cell_type": "markdown",
   "id": "46e08b81",
   "metadata": {},
   "source": [
    "## Rock Paper Scissors\n",
    "\n",
    "# Instructions\n",
    "\n",
    "Make a rock, paper, scissors game. \n",
    "\n",
    "Inside the `main.py` file, you'll find the ASCII art for the hand signals already saved to a corresponding variable: `rock`, `paper`, and `scissors`. This will make it easy to print them out to the console. \n",
    "\n",
    "Start the game by asking the player:\n",
    "\n",
    "*\"What do you choose? Type 0 for Rock, 1 for Paper or 2 for Scissors.\"*\n",
    "\n",
    "From there you will need to figure out: \n",
    "* How you will store the user's input.\n",
    "* How you will generate a random choice for the computer.\n",
    "* How you will compare the user's and the computer's choice to determine the winner (or a draw).\n",
    "* And also how you will give feedback to the player. \n",
    "\n",
    "You can find the \"official\" rules of the game on [the World Rock Paper Scissors Association website.](https://wrpsa.com/the-official-rules-of-rock-paper-scissors/)\n"
   ]
  },
  {
   "cell_type": "code",
   "execution_count": 16,
   "id": "35edb3da",
   "metadata": {},
   "outputs": [],
   "source": [
    "import random\n",
    "rock = '''\n",
    "    _______\n",
    "---'   ____)\n",
    "      (_____)\n",
    "      (_____)\n",
    "      (____)\n",
    "---.__(___)\n",
    "'''\n",
    "\n",
    "paper = '''\n",
    "    _______\n",
    "---'   ____)____\n",
    "          ______)\n",
    "          _______)\n",
    "         _______)\n",
    "---.__________)\n",
    "'''\n",
    "\n",
    "scissors = '''\n",
    "    _______\n",
    "---'   ____)____\n",
    "          ______)\n",
    "       __________)\n",
    "      (____)\n",
    "---.__(___)\n",
    "'''\n"
   ]
  },
  {
   "cell_type": "code",
   "execution_count": 27,
   "id": "68d3492f",
   "metadata": {},
   "outputs": [
    {
     "name": "stdout",
     "output_type": "stream",
     "text": [
      "What do you choose? Type 0 for Rock, 1 for Paper or 2 for Scissors.\n",
      "0\n",
      "You choose: \n",
      "    _______\n",
      "---'   ____)\n",
      "      (_____)\n",
      "      (_____)\n",
      "      (____)\n",
      "---.__(___)\n",
      "\n",
      "computer chooses \n",
      "    _______\n",
      "---'   ____)\n",
      "      (_____)\n",
      "      (_____)\n",
      "      (____)\n",
      "---.__(___)\n",
      "\n",
      "Draw\n"
     ]
    }
   ],
   "source": [
    "choices = [rock, paper, scissors]\n",
    "user_choice = int(input(\"What do you choose? Type 0 for Rock, 1 for Paper or 2 for Scissors.\\n\"))\n",
    "l = len(choices)\n",
    "random_choice = random.randint(0,l-1)\n",
    "print(f\"You choose: {choices[user_choice]}\\ncomputer chooses {choices[random_choice]}\")\n",
    "if user_choice == 0 and random_choice == 2:\n",
    "    print(\"You won\")\n",
    "elif user_choice == 2 and random_choice == 1:\n",
    "    print(\"You won\")\n",
    "elif user_choice == 1 and random_choice == 0:\n",
    "    print(\"You won\")\n",
    "elif user_choice == random_choice:\n",
    "    print(\"Draw\")\n",
    "else:\n",
    "    print(\"You loose\")\n",
    "    \n",
    "    \n"
   ]
  },
  {
   "cell_type": "code",
   "execution_count": null,
   "id": "b1cd44c1",
   "metadata": {},
   "outputs": [],
   "source": []
  }
 ],
 "metadata": {
  "kernelspec": {
   "display_name": "Python 3 (ipykernel)",
   "language": "python",
   "name": "python3"
  },
  "language_info": {
   "codemirror_mode": {
    "name": "ipython",
    "version": 3
   },
   "file_extension": ".py",
   "mimetype": "text/x-python",
   "name": "python",
   "nbconvert_exporter": "python",
   "pygments_lexer": "ipython3",
   "version": "3.9.7"
  }
 },
 "nbformat": 4,
 "nbformat_minor": 5
}
