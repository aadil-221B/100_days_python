{
 "cells": [
  {
   "cell_type": "markdown",
   "id": "f58058cd",
   "metadata": {},
   "source": [
    "## Instructions\n",
    "````\n",
    "You are going to write a program that calculates the sum of all the even numbers from 1 to X. If X is 100 then the first even number would be 2 and the last one is 100:\n",
    "\n",
    "i.e. 2 + 4 + 6 + 8 +10 ... + 98 + 100\n",
    "\n",
    "Important, there should only be 1 print statement in your console output. It should just print the final total and not every step of the calculation.\n",
    "\n",
    "Also, we will constrain the inputs to only take numbers from 0 to a max of 1000.\n",
    "\n",
    "Example Input 1\n",
    "10\n",
    "Example Output 1\n",
    "30\n",
    "Example Input 2\n",
    "52\n",
    "Example Output 2\n",
    "702\n",
    "Hint\n",
    "There are quite a few ways of solving this problem, but you will need to use the range() function in any of the solutions.\n",
    "````"
   ]
  },
  {
   "cell_type": "code",
   "execution_count": 6,
   "id": "f50df70b",
   "metadata": {},
   "outputs": [
    {
     "name": "stdout",
     "output_type": "stream",
     "text": [
      "10\n",
      "0\n",
      "2\n",
      "4\n",
      "6\n",
      "8\n",
      "10\n",
      "30\n"
     ]
    }
   ],
   "source": [
    "target = int(input()) # Enter a number between 0 and 1000\n",
    "# 🚨 Do not change the code above ☝️\n",
    "\n",
    "# Write your code here 👇\n",
    "total=0\n",
    "for num in range(0,target+1,2):\n",
    "    print(num)\n",
    "    total+=num\n",
    "print(total)\n",
    "    "
   ]
  },
  {
   "cell_type": "code",
   "execution_count": null,
   "id": "162677de",
   "metadata": {},
   "outputs": [],
   "source": []
  }
 ],
 "metadata": {
  "kernelspec": {
   "display_name": "Python 3 (ipykernel)",
   "language": "python",
   "name": "python3"
  },
  "language_info": {
   "codemirror_mode": {
    "name": "ipython",
    "version": 3
   },
   "file_extension": ".py",
   "mimetype": "text/x-python",
   "name": "python",
   "nbconvert_exporter": "python",
   "pygments_lexer": "ipython3",
   "version": "3.9.7"
  }
 },
 "nbformat": 4,
 "nbformat_minor": 5
}
