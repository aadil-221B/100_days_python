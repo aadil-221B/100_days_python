{
 "cells": [
  {
   "cell_type": "markdown",
   "id": "383b1d70",
   "metadata": {},
   "source": [
    "Instructions\n",
    "You are going to write a program that calculates the average student height from a List of heights.\n",
    "\n",
    "e.g. student_heights = [180, 124, 165, 173, 189, 169, 146]\n",
    "\n",
    "The average height can be calculated by adding all the heights together and dividing by the total number of heights.\n",
    "\n",
    "e.g.\n",
    "\n",
    "180 + 124 + 165 + 173 + 189 + 169 + 146 = 1146\n",
    "\n",
    "There are a total of 7 heights in student_heights\n",
    "\n",
    "1146 ÷ 7 = 163.71428571428572\n",
    "\n",
    "Average height rounded to the nearest whole number = 164\n",
    "\n",
    "Important You should not use the sum() or len() functions in your answer. You should try to replicate their functionality using what you have learnt about for loops.\n",
    "\n",
    "Example Input 1\n",
    "156 178 165 171 187\n",
    "In this case, student_heights would be a list that looks like: [156, 178, 165, 171, 187]\n",
    "\n",
    "Example Output 1\n",
    "total height = 857\n",
    "number of students = 5\n",
    "average height = 171"
   ]
  },
  {
   "cell_type": "code",
   "execution_count": 2,
   "id": "a4cc28b5",
   "metadata": {},
   "outputs": [
    {
     "name": "stdout",
     "output_type": "stream",
     "text": [
      "180 124 165 173 189 169 146\n",
      "total height = 1146\n",
      "number of students = 7\n",
      "average height = 164\n"
     ]
    }
   ],
   "source": [
    "# Input a Python list of student heights\n",
    "student_heights = input().split()\n",
    "for n in range(0, len(student_heights)):\n",
    "    student_heights[n] = int(student_heights[n])\n",
    "# 🚨 Don't change the code above 👆\n",
    "  \n",
    "# Write your code below this row 👇\n",
    "total_height = 0\n",
    "number_of_students = 0\n",
    "for values in student_heights:\n",
    "    total_height+=values\n",
    "    number_of_students+=1\n",
    "print(f\"total height = {total_height}\\nnumber of students = {number_of_students}\")\n",
    "avg_height = total_height/number_of_students\n",
    "print(f\"average height = {round(avg_height)}\")"
   ]
  },
  {
   "cell_type": "code",
   "execution_count": 15,
   "id": "3324e68e",
   "metadata": {},
   "outputs": [
    {
     "name": "stdout",
     "output_type": "stream",
     "text": [
      "180 124 165 173 189 169 146\n",
      "[180, 124, 165, 173, 189, 169, 146]\n",
      "1146\n",
      "7\n",
      "164\n"
     ]
    }
   ],
   "source": [
    "# Input a Python list of student heights\n",
    "student_heights = input().split()\n",
    "student_heights = list(map(lambda x : int(x),student_heights ))\n",
    "print(student_heights)\n",
    "total_height= sum(student_heights)\n",
    "number_of_std = len(student_heights)\n",
    "print(total_height)\n",
    "print(number_of_std)\n",
    "avg = round(total_height/number_of_std)\n",
    "print(avg)"
   ]
  },
  {
   "cell_type": "code",
   "execution_count": null,
   "id": "3c0f4233",
   "metadata": {},
   "outputs": [],
   "source": []
  }
 ],
 "metadata": {
  "kernelspec": {
   "display_name": "Python 3 (ipykernel)",
   "language": "python",
   "name": "python3"
  },
  "language_info": {
   "codemirror_mode": {
    "name": "ipython",
    "version": 3
   },
   "file_extension": ".py",
   "mimetype": "text/x-python",
   "name": "python",
   "nbconvert_exporter": "python",
   "pygments_lexer": "ipython3",
   "version": "3.9.7"
  }
 },
 "nbformat": 4,
 "nbformat_minor": 5
}
