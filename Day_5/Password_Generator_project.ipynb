{
 "cells": [
  {
   "cell_type": "markdown",
   "id": "8ba02556",
   "metadata": {},
   "source": [
    "## Password Generator\n",
    "\n",
    "# Instructions\n",
    "\n",
    "The program will ask:\n",
    "```\n",
    "How many letters would you like in your password?\n",
    "```\n",
    "```\n",
    "How many symbols would you like?\n",
    "```\n",
    "```\n",
    "How many numbers would you like?\n",
    "```\n",
    "The objective is to take the inputs from the user to these questions and then generate a random password. Use your knowledge about Python lists and loops to complete the challenge. \n",
    "\n",
    "# Easy Version (Step 1)\n",
    "\n",
    "Generate the password in sequence. If the user wants \n",
    "* 4 letters\n",
    "* 2 symbols and\n",
    "* 3 numbers\n",
    "\n",
    "then the password might look like this: \n",
    "\n",
    "```\n",
    "fgdx$*924\n",
    "```\n",
    "You can see that all the letters are together. All the symbols are together and all the numbers follow each other as well. Try to solve this problem first. \n",
    "\n",
    "# Hard Version (Step 2)\n",
    "\n",
    "When you've completed the easy version, you're ready to tackle the hard version. In the advanced version of this project the final password does not follow a pattern. So the example above might look like this:\n",
    "```\n",
    "x$d24g*f9\n",
    "```\n",
    "And every time you generate a password, the positions of the symbols, numbers, and letters are different. "
   ]
  },
  {
   "cell_type": "code",
   "execution_count": 1,
   "id": "35177611",
   "metadata": {},
   "outputs": [],
   "source": [
    "import random"
   ]
  },
  {
   "cell_type": "code",
   "execution_count": 6,
   "id": "c414d9c1",
   "metadata": {},
   "outputs": [
    {
     "name": "stdout",
     "output_type": "stream",
     "text": [
      "Welcome to the PyPassword Generator!\n",
      "\n",
      "How many letters would you like in your password?\n",
      "4\n",
      "How many symbols would you like?\n",
      "2\n",
      "How many symbols would you like?\n",
      "3\n",
      "cZJQ)!502\n"
     ]
    }
   ],
   "source": [
    "symbols = ['!', '#', '$', '%', '&', '(', ')', '*', '+']\n",
    "print(\"Welcome to the PyPassword Generator!\")\n",
    "print()\n",
    "user_letters = int(input(\"How many letters would you like in your password?\\n\"))\n",
    "user_symbols = int(input(\"How many symbols would you like?\\n\"))\n",
    "user_numbers = int(input(\"How many symbols would you like?\\n\"))\n",
    "password=\"\"\n",
    "for i in range(user_letters):\n",
    "    password+=chr(random.randint(ord(\"A\"), ord(\"z\")))\n",
    "for i in range(user_symbols):\n",
    "    password+=random.choice(symbols)\n",
    "for i in range(user_numbers):\n",
    "    password+=str(random.randint(0,9))\n",
    "print(password)\n",
    "    \n"
   ]
  },
  {
   "cell_type": "code",
   "execution_count": 30,
   "id": "f6756de2",
   "metadata": {},
   "outputs": [
    {
     "name": "stdout",
     "output_type": "stream",
     "text": [
      "Welcome to the PyPassword Generator!\n",
      "\n",
      "How many letters would you like in your password?\n",
      "4\n",
      "How many symbols would you like?\n",
      "2\n",
      "How many symbols would you like?\n",
      "3\n",
      "!$9FD7Ad6\n"
     ]
    }
   ],
   "source": [
    "symbols = ['!', '#', '$', '%', '&', '(', ')', '*', '+']\n",
    "print(\"Welcome to the PyPassword Generator!\")\n",
    "print()\n",
    "user_letters = int(input(\"How many letters would you like in your password?\\n\"))\n",
    "user_symbols = int(input(\"How many symbols would you like?\\n\"))\n",
    "user_numbers = int(input(\"How many symbols would you like?\\n\"))\n",
    "password=\"\"\n",
    "for i in range(user_letters):\n",
    "    password+=chr(random.randint(ord(\"A\"), ord(\"z\")))\n",
    "for i in range(user_symbols):\n",
    "    password+=random.choice(symbols)\n",
    "for i in range(user_numbers):\n",
    "    password+=str(random.randint(0,9))\n",
    "password_list = [x for x in password]\n",
    "random.shuffle(password_list)\n",
    "password = \"\".join(password_list)\n",
    "print(password)\n"
   ]
  },
  {
   "cell_type": "code",
   "execution_count": 25,
   "id": "ea20fef5",
   "metadata": {},
   "outputs": [
    {
     "name": "stdout",
     "output_type": "stream",
     "text": [
      "['3', '2', '4', '1']\n"
     ]
    }
   ],
   "source": [
    "a = [\"1\",\"2\",\"3\",\"4\"]\n",
    "random.shuffle(a)\n",
    "print(a)"
   ]
  },
  {
   "cell_type": "code",
   "execution_count": 27,
   "id": "62e9081e",
   "metadata": {},
   "outputs": [
    {
     "data": {
      "text/plain": [
       "'3241'"
      ]
     },
     "execution_count": 27,
     "metadata": {},
     "output_type": "execute_result"
    }
   ],
   "source": [
    "\"\".join(a)"
   ]
  },
  {
   "cell_type": "code",
   "execution_count": null,
   "id": "3e5f82bc",
   "metadata": {},
   "outputs": [],
   "source": []
  }
 ],
 "metadata": {
  "kernelspec": {
   "display_name": "Python 3 (ipykernel)",
   "language": "python",
   "name": "python3"
  },
  "language_info": {
   "codemirror_mode": {
    "name": "ipython",
    "version": 3
   },
   "file_extension": ".py",
   "mimetype": "text/x-python",
   "name": "python",
   "nbconvert_exporter": "python",
   "pygments_lexer": "ipython3",
   "version": "3.9.7"
  }
 },
 "nbformat": 4,
 "nbformat_minor": 5
}
