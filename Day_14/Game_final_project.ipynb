{
 "cells": [
  {
   "cell_type": "code",
   "execution_count": 2,
   "metadata": {},
   "outputs": [],
   "source": [
    "from game_data import data"
   ]
  },
  {
   "cell_type": "code",
   "execution_count": 3,
   "metadata": {},
   "outputs": [
    {
     "name": "stdout",
     "output_type": "stream",
     "text": [
      "[{'name': 'Instagram', 'follower_count': 346, 'description': 'Social media platform', 'country': 'United States'}, {'name': 'Cristiano Ronaldo', 'follower_count': 215, 'description': 'Footballer', 'country': 'Portugal'}, {'name': 'Ariana Grande', 'follower_count': 183, 'description': 'Musician and actress', 'country': 'United States'}, {'name': 'Dwayne Johnson', 'follower_count': 181, 'description': 'Actor and professional wrestler', 'country': 'United States'}, {'name': 'Selena Gomez', 'follower_count': 174, 'description': 'Musician and actress', 'country': 'United States'}, {'name': 'Kylie Jenner', 'follower_count': 172, 'description': 'Reality TV personality and businesswoman and Self-Made Billionaire', 'country': 'United States'}, {'name': 'Kim Kardashian', 'follower_count': 167, 'description': 'Reality TV personality and businesswoman', 'country': 'United States'}, {'name': 'Lionel Messi', 'follower_count': 149, 'description': 'Footballer', 'country': 'Argentina'}, {'name': 'Beyoncé', 'follower_count': 145, 'description': 'Musician', 'country': 'United States'}, {'name': 'Neymar', 'follower_count': 138, 'description': 'Footballer', 'country': 'Brasil'}, {'name': 'National Geographic', 'follower_count': 135, 'description': 'Magazine', 'country': 'United States'}, {'name': 'Justin Bieber', 'follower_count': 133, 'description': 'Musician', 'country': 'Canada'}, {'name': 'Taylor Swift', 'follower_count': 131, 'description': 'Musician', 'country': 'United States'}, {'name': 'Kendall Jenner', 'follower_count': 127, 'description': 'Reality TV personality and Model', 'country': 'United States'}, {'name': 'Jennifer Lopez', 'follower_count': 119, 'description': 'Musician and actress', 'country': 'United States'}, {'name': 'Nicki Minaj', 'follower_count': 113, 'description': 'Musician', 'country': 'Trinidad and Tobago'}, {'name': 'Nike', 'follower_count': 109, 'description': 'Sportswear multinational', 'country': 'United States'}, {'name': 'Khloé Kardashian', 'follower_count': 108, 'description': 'Reality TV personality and businesswoman', 'country': 'United States'}, {'name': 'Miley Cyrus', 'follower_count': 107, 'description': 'Musician and actress', 'country': 'United States'}, {'name': 'Katy Perry', 'follower_count': 94, 'description': 'Musician', 'country': 'United States'}, {'name': 'Kourtney Kardashian', 'follower_count': 90, 'description': 'Reality TV personality', 'country': 'United States'}, {'name': 'Kevin Hart', 'follower_count': 89, 'description': 'Comedian and actor', 'country': 'United States'}, {'name': 'Ellen DeGeneres', 'follower_count': 87, 'description': 'Comedian', 'country': 'United States'}, {'name': 'Real Madrid CF', 'follower_count': 86, 'description': 'Football club', 'country': 'Spain'}, {'name': 'FC Barcelona', 'follower_count': 85, 'description': 'Football club', 'country': 'Spain'}, {'name': 'Rihanna', 'follower_count': 81, 'description': 'Musician and businesswoman', 'country': 'Barbados'}, {'name': 'Demi Lovato', 'follower_count': 80, 'description': 'Musician and actress', 'country': 'United States'}, {'name': \"Victoria's Secret\", 'follower_count': 69, 'description': 'Lingerie brand', 'country': 'United States'}, {'name': 'Zendaya', 'follower_count': 68, 'description': 'Actress and musician', 'country': 'United States'}, {'name': 'Shakira', 'follower_count': 66, 'description': 'Musician', 'country': 'Colombia'}, {'name': 'Drake', 'follower_count': 65, 'description': 'Musician', 'country': 'Canada'}, {'name': 'Chris Brown', 'follower_count': 64, 'description': 'Musician', 'country': 'United States'}, {'name': 'LeBron James', 'follower_count': 63, 'description': 'Basketball player', 'country': 'United States'}, {'name': 'Vin Diesel', 'follower_count': 62, 'description': 'Actor', 'country': 'United States'}, {'name': 'Cardi B', 'follower_count': 67, 'description': 'Musician', 'country': 'United States'}, {'name': 'David Beckham', 'follower_count': 82, 'description': 'Footballer', 'country': 'United Kingdom'}, {'name': 'Billie Eilish', 'follower_count': 61, 'description': 'Musician', 'country': 'United States'}, {'name': 'Justin Timberlake', 'follower_count': 59, 'description': 'Musician and actor', 'country': 'United States'}, {'name': 'UEFA Champions League', 'follower_count': 58, 'description': 'Club football competition', 'country': 'Europe'}, {'name': 'NASA', 'follower_count': 56, 'description': 'Space agency', 'country': 'United States'}, {'name': 'Emma Watson', 'follower_count': 56, 'description': 'Actress', 'country': 'United Kingdom'}, {'name': 'Shawn Mendes', 'follower_count': 57, 'description': 'Musician', 'country': 'Canada'}, {'name': 'Virat Kohli', 'follower_count': 55, 'description': 'Cricketer', 'country': 'India'}, {'name': 'Gigi Hadid', 'follower_count': 54, 'description': 'Model', 'country': 'United States'}, {'name': 'Priyanka Chopra Jonas', 'follower_count': 53, 'description': 'Actress and musician', 'country': 'India'}, {'name': '9GAG', 'follower_count': 52, 'description': 'Social media platform', 'country': 'China'}, {'name': 'Ronaldinho', 'follower_count': 51, 'description': 'Footballer', 'country': 'Brasil'}, {'name': 'Maluma', 'follower_count': 50, 'description': 'Musician', 'country': 'Colombia'}, {'name': 'Camila Cabello', 'follower_count': 49, 'description': 'Musician', 'country': 'Cuba'}, {'name': 'NBA', 'follower_count': 47, 'description': 'Club Basketball Competition', 'country': 'United States'}]\n"
     ]
    }
   ],
   "source": [
    "print(data)"
   ]
  },
  {
   "cell_type": "code",
   "execution_count": 4,
   "metadata": {},
   "outputs": [],
   "source": [
    "from art import logo,vs\n",
    "import random"
   ]
  },
  {
   "cell_type": "code",
   "execution_count": 5,
   "metadata": {},
   "outputs": [],
   "source": [
    "# choose any random account from data\n",
    "def get_random_account():\n",
    "    '''Get data from random account'''\n",
    "    return random.choice(data)\n",
    "# account = get_random_account()\n",
    "# print(account)"
   ]
  },
  {
   "cell_type": "code",
   "execution_count": 6,
   "metadata": {},
   "outputs": [
    {
     "ename": "NameError",
     "evalue": "name 'account' is not defined",
     "output_type": "error",
     "traceback": [
      "\u001b[1;31m---------------------------------------------------------------------------\u001b[0m",
      "\u001b[1;31mNameError\u001b[0m                                 Traceback (most recent call last)",
      "Cell \u001b[1;32mIn[6], line 1\u001b[0m\n\u001b[1;32m----> 1\u001b[0m \u001b[38;5;28mprint\u001b[39m(\u001b[38;5;124mf\u001b[39m\u001b[38;5;124m'\u001b[39m\u001b[38;5;132;01m{\u001b[39;00maccount[\u001b[38;5;124m\"\u001b[39m\u001b[38;5;124mname\u001b[39m\u001b[38;5;124m\"\u001b[39m]\u001b[38;5;132;01m}\u001b[39;00m\u001b[38;5;124m: \u001b[39m\u001b[38;5;132;01m{\u001b[39;00maccount[\u001b[38;5;124m\"\u001b[39m\u001b[38;5;124mfollower_count\u001b[39m\u001b[38;5;124m\"\u001b[39m]\u001b[38;5;132;01m}\u001b[39;00m\u001b[38;5;124m'\u001b[39m)\n",
      "\u001b[1;31mNameError\u001b[0m: name 'account' is not defined"
     ]
    }
   ],
   "source": [
    "print(f'{account[\"name\"]}: {account[\"follower_count\"]}')"
   ]
  },
  {
   "cell_type": "code",
   "execution_count": 7,
   "metadata": {},
   "outputs": [],
   "source": [
    "# format information related to above account\n",
    "def format_data(account):\n",
    "     \"\"\"Format account into printable format: name, description and country\"\"\"\n",
    "     name = account[\"name\"]\n",
    "     description = account[\"description\"]\n",
    "     country = account[\"country\"]\n",
    "     # print(f'{name}: {account[\"follower_count\"]}')\n",
    "     return f\"{name}, a {description}, from {country}\"\n",
    "\n",
    "# print(format_data(account))\n"
   ]
  },
  {
   "cell_type": "code",
   "execution_count": 8,
   "metadata": {},
   "outputs": [],
   "source": [
    "def check_answer(guess,a_followers, b_followers):\n",
    "    \"\"\"Checks followers against user's guess \n",
    "  and returns True if they got it right.\n",
    "  Or False if they got it wrong.\"\"\" \n",
    "    if a_followers > b_followers:\n",
    "        '''if guess == a it returns True'''\n",
    "        return guess == \"a\"\n",
    "    else:\n",
    "        \"\"\"if guess == \"b\" it returns True\"\"\"\n",
    "        return guess == \"b\"\n",
    "    "
   ]
  },
  {
   "cell_type": "code",
   "execution_count": 9,
   "metadata": {},
   "outputs": [
    {
     "name": "stdout",
     "output_type": "stream",
     "text": [
      "\n",
      "    __  ___       __             \n",
      "   / / / (_)___ _/ /_  ___  _____\n",
      "  / /_/ / / __ `/ __ \\/ _ \\/ ___/\n",
      " / __  / / /_/ / / / /  __/ /    \n",
      "/_/ ///_/\\__, /_/ /_/\\___/_/     \n",
      "   / /  /____/_      _____  _____\n",
      "  / /   / __ \\ | /| / / _ \\/ ___/\n",
      " / /___/ /_/ / |/ |/ /  __/ /    \n",
      "/_____/\\____/|__/|__/\\___/_/     \n",
      "\n",
      "Compare A: Gigi Hadid, a Model, from United States.\n",
      "\n",
      " _    __    \n",
      "| |  / /____\n",
      "| | / / ___/\n",
      "| |/ (__  ) \n",
      "|___/____(_)\n",
      "\n",
      "Against B: NASA, a Space agency, from United States.\n",
      "You're right! Current score: 1.\n",
      "Compare A: NASA, a Space agency, from United States.\n",
      "\n",
      " _    __    \n",
      "| |  / /____\n",
      "| | / / ___/\n",
      "| |/ (__  ) \n",
      "|___/____(_)\n",
      "\n",
      "Against B: Shakira, a Musician, from Colombia.\n",
      "You're right! Current score: 2.\n",
      "Compare A: Shakira, a Musician, from Colombia.\n",
      "\n",
      " _    __    \n",
      "| |  / /____\n",
      "| | / / ___/\n",
      "| |/ (__  ) \n",
      "|___/____(_)\n",
      "\n",
      "Against B: Drake, a Musician, from Canada.\n",
      "Sorry, that's wrong. Final score: 2\n"
     ]
    }
   ],
   "source": [
    "def game():\n",
    "    print(logo)\n",
    "    score = 0\n",
    "    game_continue = True\n",
    "    account_b = get_random_account()\n",
    "\n",
    "    while game_continue:\n",
    "        account_a = account_b\n",
    "        account_b = get_random_account()\n",
    "        while account_a == account_b:\n",
    "             account_b = get_random_account()\n",
    "        print(f\"Compare A: {format_data(account_a)}.\")\n",
    "        print(vs)\n",
    "        print(f\"Against B: {format_data(account_b)}.\")\n",
    "        guess = input(\"Who has more followers? Type 'A' or 'B': \").lower()\n",
    "        a_follower_count = account_a[\"follower_count\"]\n",
    "        b_follower_count = account_b[\"follower_count\"]\n",
    "        is_correct = check_answer(guess,a_follower_count, b_follower_count)\n",
    "\n",
    "        if is_correct:\n",
    "            score+=1\n",
    "            print(f\"You're right! Current score: {score}.\")\n",
    "        else:\n",
    "            game_continue = False\n",
    "            print(f\"Sorry, that's wrong. Final score: {score}\")\n",
    "\n",
    "        \n",
    "        \n",
    "game() \n",
    "\n",
    "        "
   ]
  },
  {
   "cell_type": "code",
   "execution_count": null,
   "metadata": {},
   "outputs": [],
   "source": []
  },
  {
   "cell_type": "code",
   "execution_count": null,
   "metadata": {},
   "outputs": [],
   "source": []
  }
 ],
 "metadata": {
  "kernelspec": {
   "display_name": "base",
   "language": "python",
   "name": "python3"
  },
  "language_info": {
   "codemirror_mode": {
    "name": "ipython",
    "version": 3
   },
   "file_extension": ".py",
   "mimetype": "text/x-python",
   "name": "python",
   "nbconvert_exporter": "python",
   "pygments_lexer": "ipython3",
   "version": "3.11.5"
  }
 },
 "nbformat": 4,
 "nbformat_minor": 2
}
