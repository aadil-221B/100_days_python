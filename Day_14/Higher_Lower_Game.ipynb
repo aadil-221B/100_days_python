{
 "cells": [
  {
   "cell_type": "code",
   "execution_count": 1,
   "metadata": {},
   "outputs": [],
   "source": [
    "# Generating random number from  a dice\n",
    "import random \n",
    "rand_num = random.randint(1,6)"
   ]
  },
  {
   "cell_type": "code",
   "execution_count": 2,
   "metadata": {},
   "outputs": [],
   "source": [
    "# choosing number from a dice\n",
    "# dice = int(input(\"Roll a die and enter the output: \"))\n"
   ]
  },
  {
   "cell_type": "code",
   "execution_count": 4,
   "metadata": {},
   "outputs": [
    {
     "name": "stdout",
     "output_type": "stream",
     "text": [
      "You're right! Current score: 1\n",
      "You're right! Current score: 2\n",
      "You're right! Current score: 3\n",
      "Sorry, that's wrong. Final score: 3\n"
     ]
    }
   ],
   "source": [
    "count_turns = 0\n",
    "game_over = False\n",
    "while game_over != True:\n",
    "    rand_num = random.randint(1,6)\n",
    "    dice = int(input(\"Roll a die and enter the output: \"))\n",
    "    if dice >= rand_num:\n",
    "        count_turns+=1\n",
    "        print(f\"You're right! Current score: {count_turns}\")\n",
    "    elif dice < rand_num:\n",
    "        game_over = True\n",
    "        print(f\"Sorry, that's wrong. Final score: {count_turns}\")\n",
    "\n",
    "\n"
   ]
  },
  {
   "cell_type": "code",
   "execution_count": null,
   "metadata": {},
   "outputs": [],
   "source": []
  }
 ],
 "metadata": {
  "kernelspec": {
   "display_name": "base",
   "language": "python",
   "name": "python3"
  },
  "language_info": {
   "codemirror_mode": {
    "name": "ipython",
    "version": 3
   },
   "file_extension": ".py",
   "mimetype": "text/x-python",
   "name": "python",
   "nbconvert_exporter": "python",
   "pygments_lexer": "ipython3",
   "version": "3.11.5"
  }
 },
 "nbformat": 4,
 "nbformat_minor": 2
}
