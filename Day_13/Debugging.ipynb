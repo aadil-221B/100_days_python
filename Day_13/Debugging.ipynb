{
 "cells": [
  {
   "cell_type": "code",
   "execution_count": 2,
   "metadata": {},
   "outputs": [
    {
     "name": "stdout",
     "output_type": "stream",
     "text": [
      "1\n",
      "2\n",
      "3\n",
      "4\n",
      "5\n",
      "6\n",
      "7\n",
      "8\n",
      "9\n",
      "10\n",
      "11\n",
      "12\n",
      "13\n",
      "14\n",
      "15\n",
      "16\n",
      "17\n",
      "18\n",
      "19\n"
     ]
    }
   ],
   "source": [
    "############DEBUGGING#####################\n",
    "\n",
    "# Describe Problem\n",
    "def my_function():\n",
    "  for i in range(1, 20):\n",
    "    print(i) # output values from the loop to see what it prints\n",
    "    if i == 20:\n",
    "      print(\"You got it\")\n",
    "my_function()"
   ]
  },
  {
   "cell_type": "code",
   "execution_count": 3,
   "metadata": {},
   "outputs": [
    {
     "name": "stdout",
     "output_type": "stream",
     "text": [
      "You got it\n"
     ]
    }
   ],
   "source": [
    "def my_function():\n",
    "  for i in range(1, 21): # fix the code\n",
    " \n",
    "    if i == 20:\n",
    "      print(\"You got it\")\n",
    "my_function()"
   ]
  },
  {
   "cell_type": "code",
   "execution_count": 5,
   "metadata": {},
   "outputs": [
    {
     "name": "stdout",
     "output_type": "stream",
     "text": [
      "❺\n"
     ]
    }
   ],
   "source": [
    "# Reproduce the Bug\n",
    "# from random import randint\n",
    "# dice_imgs = [\"❶\", \"❷\", \"❸\", \"❹\", \"❺\", \"❻\"]\n",
    "# dice_num = randint(1, 6)\n",
    "# # Bug: as list index starts from 0\n",
    "# # randint should give digits from 0 to length of dice_imgs\n",
    "# print(dice_imgs[dice_num])\n",
    "from random import randint\n",
    "dice_imgs = [\"❶\", \"❷\", \"❸\", \"❹\", \"❺\", \"❻\"]\n",
    "dice_num = randint(0, 5)\n",
    "# Bug: as list index starts from 0\n",
    "# randint should give digits from 0 to length of dice_imgs\n",
    "print(dice_imgs[dice_num])"
   ]
  },
  {
   "cell_type": "code",
   "execution_count": 14,
   "metadata": {},
   "outputs": [
    {
     "name": "stdout",
     "output_type": "stream",
     "text": [
      "You are a millenial.\n"
     ]
    }
   ],
   "source": [
    "# # Play Computer\n",
    "# year = int(input(\"What's your year of birth?\"))\n",
    "# if year > 1980 and year < 1994:\n",
    "#   print(\"You are a millenial.\")\n",
    "# elif year > 1994:\n",
    "#   print(\"You are a Gen Z.\")\n",
    "### 1994 is not included in any category\n",
    "year = int(input(\"What's your year of birth?\"))\n",
    "if year > 1980 and year <= 1994:\n",
    "  print(\"You are a millenial.\")\n",
    "elif year > 1994:\n",
    "  print(\"You are a Gen Z.\")\n"
   ]
  },
  {
   "cell_type": "code",
   "execution_count": 17,
   "metadata": {},
   "outputs": [
    {
     "name": "stdout",
     "output_type": "stream",
     "text": [
      "You can drive at age 19.\n"
     ]
    }
   ],
   "source": [
    "# # Fix the Errors\n",
    "# age = input(\"How old are you?\")\n",
    "# if age > 18:\n",
    "# print(\"You can drive at age {age}.\")\n",
    "# --------------------------------------------------\n",
    "### age will be a string convert it into an int\n",
    "### indentation error\n",
    "## use f string\n",
    "# ----------------------------------\n",
    "age = int(input(\"How old are you?\"))\n",
    "if age > 18:\n",
    "    print(f\"You can drive at age {age}.\")"
   ]
  },
  {
   "cell_type": "code",
   "execution_count": 20,
   "metadata": {},
   "outputs": [
    {
     "name": "stdout",
     "output_type": "stream",
     "text": [
      "pages = 12\n",
      "word_per_page = 10\n",
      "120\n"
     ]
    }
   ],
   "source": [
    "# #Print is Your Friend\n",
    "# pages = 0\n",
    "# word_per_page = 0\n",
    "# pages = int(input(\"Number of pages: \"))\n",
    "# word_per_page == int(input(\"Number of words per page: \"))\n",
    "## use of comparison operator instead of assignment operator\n",
    "# total_words = pages * word_per_page\n",
    "# print(f\"pages = {pages}\")\n",
    "# print(f\"word_per_page = {word_per_page}\")\n",
    "# print(total_words)\n",
    "# ----------------------------------------------------\n",
    "\n",
    "pages = 0\n",
    "word_per_page = 0\n",
    "pages = int(input(\"Number of pages: \"))\n",
    "word_per_page = int(input(\"Number of words per page: \"))\n",
    "total_words = pages * word_per_page\n",
    "print(f\"pages = {pages}\")\n",
    "print(f\"word_per_page = {word_per_page}\")\n",
    "print(total_words)"
   ]
  },
  {
   "cell_type": "code",
   "execution_count": 22,
   "metadata": {},
   "outputs": [
    {
     "name": "stdout",
     "output_type": "stream",
     "text": [
      "[2, 4, 6, 10, 16, 26]\n"
     ]
    }
   ],
   "source": [
    "# #Use a Debugger\n",
    "# def mutate(a_list):\n",
    "#   b_list = []\n",
    "#   for item in a_list:\n",
    "#     new_item = item * 2\n",
    "#   b_list.append(new_item)\n",
    "#   print(b_list)\n",
    "\n",
    "# mutate([1,2,3,5,8,13])\n",
    "\n",
    "def mutate(a_list):\n",
    "  b_list = []\n",
    "  for item in a_list:\n",
    "    new_item = item * 2\n",
    "    b_list.append(new_item)\n",
    "  return b_list\n",
    "\n",
    "print(mutate([1,2,3,5,8,13]))\n"
   ]
  },
  {
   "cell_type": "code",
   "execution_count": 25,
   "metadata": {},
   "outputs": [
    {
     "name": "stdout",
     "output_type": "stream",
     "text": [
      "not a leap year\n"
     ]
    }
   ],
   "source": [
    "year = 2022\n",
    "if year%4 == 0:\n",
    "    if year%100 != 0:\n",
    "        print(\"leap year\")\n",
    "    else:\n",
    "        if year%400 == 0:\n",
    "            print(\"leap year\")\n",
    "        else:\n",
    "            print(\"not a leap year\")\n",
    "else:\n",
    "    print(\"not a leap year\")"
   ]
  },
  {
   "cell_type": "code",
   "execution_count": 27,
   "metadata": {},
   "outputs": [
    {
     "name": "stdout",
     "output_type": "stream",
     "text": [
      "[1]\n",
      "[2]\n",
      "[Fizz]\n",
      "[4]\n",
      "[Buzz]\n",
      "[Fizz]\n",
      "[7]\n",
      "[8]\n",
      "[Fizz]\n",
      "[Buzz]\n",
      "[11]\n",
      "[Fizz]\n",
      "[13]\n",
      "[14]\n",
      "[FizzBuzz]\n",
      "[16]\n",
      "[17]\n",
      "[Fizz]\n",
      "[19]\n",
      "[Buzz]\n"
     ]
    }
   ],
   "source": [
    "target = int(input())\n",
    "for number in range(1, target + 1):\n",
    "  if number % 3 == 0 and number % 5 == 0:\n",
    "    print(\"[FizzBuzz]\")\n",
    "  elif number % 3 == 0:\n",
    "    print(\"[Fizz]\")\n",
    "  elif number % 5 == 0:\n",
    "    print(\"[Buzz]\")\n",
    "  else:\n",
    "    print([number])"
   ]
  },
  {
   "cell_type": "code",
   "execution_count": null,
   "metadata": {},
   "outputs": [],
   "source": []
  }
 ],
 "metadata": {
  "kernelspec": {
   "display_name": "base",
   "language": "python",
   "name": "python3"
  },
  "language_info": {
   "codemirror_mode": {
    "name": "ipython",
    "version": 3
   },
   "file_extension": ".py",
   "mimetype": "text/x-python",
   "name": "python",
   "nbconvert_exporter": "python",
   "pygments_lexer": "ipython3",
   "version": "3.11.5"
  }
 },
 "nbformat": 4,
 "nbformat_minor": 2
}
