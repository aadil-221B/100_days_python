{
 "cells": [
  {
   "cell_type": "code",
   "execution_count": 4,
   "id": "5c428088",
   "metadata": {},
   "outputs": [
    {
     "name": "stdout",
     "output_type": "stream",
     "text": [
      "Welcome to the Band Name Generator.\n",
      "What's name of the city you grew up in?\n",
      "Bristol\n",
      "Bristol\n",
      "What's your pet's name?\n",
      "Rabbitr\n",
      "Rabbitr\n",
      "Your band name could be Bristol Rabbitr\n"
     ]
    }
   ],
   "source": [
    "print(\"Welcome to the Band Name Generator.\")\n",
    "user_city = input(\"What's name of the city you grew up in?\\n\")\n",
    "print(user_city)\n",
    "user_pet = input(\"What's your pet's name?\\n\")\n",
    "print(user_pet)\n",
    "print(f\"Your band name could be {user_city} {user_pet}\")"
   ]
  },
  {
   "cell_type": "code",
   "execution_count": 6,
   "id": "1dbf7386",
   "metadata": {},
   "outputs": [
    {
     "name": "stdout",
     "output_type": "stream",
     "text": [
      "String Concatenation is done with the \"+\" sign.\n"
     ]
    }
   ],
   "source": [
    "print('String Concatenation is done with the \"+\" sign.')"
   ]
  },
  {
   "cell_type": "code",
   "execution_count": 9,
   "id": "4560b02a",
   "metadata": {},
   "outputs": [
    {
     "name": "stdout",
     "output_type": "stream",
     "text": [
      "String Concatenation is done with the \"+\" sign.\n"
     ]
    }
   ],
   "source": [
    "print(\"String Concatenation is done with the \\\"+\\\" sign.\")"
   ]
  },
  {
   "cell_type": "code",
   "execution_count": 10,
   "id": "a6ec3bbb",
   "metadata": {},
   "outputs": [
    {
     "name": "stdout",
     "output_type": "stream",
     "text": [
      "e.g. print(\"Hello \" + \"world\")\n"
     ]
    }
   ],
   "source": [
    "print('e.g. print(\"Hello \" + \"world\")')"
   ]
  },
  {
   "cell_type": "code",
   "execution_count": 11,
   "id": "42ff5ec3",
   "metadata": {},
   "outputs": [
    {
     "name": "stdout",
     "output_type": "stream",
     "text": [
      "Day 1 - String Manipulation\n",
      "String Concatenation is done with the \"+\" sign.\n",
      "e.g. print(\"Hello \" + \"world\")\n",
      "New lines can be created with a backslash and n.\n"
     ]
    }
   ],
   "source": [
    "print(\"Day 1 - String Manipulation\")\n",
    "print(\"String Concatenation is done with the \\\"+\\\" sign.\")\n",
    "print('e.g. print(\"Hello \" + \"world\")')\n",
    "print((\"New lines can be created with a backslash and n.\"))"
   ]
  },
  {
   "cell_type": "code",
   "execution_count": 1,
   "id": "0db7af26",
   "metadata": {},
   "outputs": [
    {
     "name": "stdout",
     "output_type": "stream",
     "text": [
      "10\n",
      "20\n",
      "a: 20\n",
      "b: 10\n"
     ]
    }
   ],
   "source": [
    "# There are two variables, a and b from input\n",
    "a = input()\n",
    "b = input()\n",
    "# 🚨 Don't change the code above ☝️\n",
    "####################################\n",
    "# Write your code below this line 👇\n",
    "b,a = (a,b)\n",
    "\n",
    "\n",
    "\n",
    "# 🚨 Don't change the code below 👇\n",
    "print(\"a: \" + a)\n",
    "print(\"b: \" + b)"
   ]
  },
  {
   "cell_type": "code",
   "execution_count": null,
   "id": "48ab7d84",
   "metadata": {},
   "outputs": [],
   "source": []
  }
 ],
 "metadata": {
  "kernelspec": {
   "display_name": "Python 3 (ipykernel)",
   "language": "python",
   "name": "python3"
  },
  "language_info": {
   "codemirror_mode": {
    "name": "ipython",
    "version": 3
   },
   "file_extension": ".py",
   "mimetype": "text/x-python",
   "name": "python",
   "nbconvert_exporter": "python",
   "pygments_lexer": "ipython3",
   "version": "3.9.7"
  }
 },
 "nbformat": 4,
 "nbformat_minor": 5
}
