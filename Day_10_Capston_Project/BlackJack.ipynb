{
 "cells": [
  {
   "cell_type": "markdown",
   "id": "31d46ac9-285e-4ea8-8810-7440df467d78",
   "metadata": {},
   "source": [
    "############### Our Blackjack House Rules #####################\n",
    "\n",
    "## The deck is unlimited in size. \n",
    "## There are no jokers. \n",
    "## The Jack/Queen/King all count as 10.\n",
    "## The the Ace can count as 11 or 1.\n",
    "## Use the following list as the deck of cards:\n",
    "## cards = [11, 2, 3, 4, 5, 6, 7, 8, 9, 10, 10, 10, 10]\n",
    "## The cards in the list have equal probability of being drawn.\n",
    "## Cards are not removed from the deck as they are drawn.\n",
    "## The computer is the dealer.\n",
    "\n",
    "##################### Hints #####################\n"
   ]
  },
  {
   "cell_type": "code",
   "execution_count": 4,
   "id": "f0b1bb4a-6a1d-49d8-b7b4-ce608416529a",
   "metadata": {},
   "outputs": [],
   "source": [
    "import random"
   ]
  },
  {
   "cell_type": "code",
   "execution_count": 5,
   "id": "cc386646-4240-4a0c-9d28-4f058549dd45",
   "metadata": {},
   "outputs": [],
   "source": [
    "def deal_card():\n",
    "    cards = [11, 2, 3, 4, 5, 6, 7, 8, 9, 10, 10, 10, 10]\n",
    "    return random.choice(cards)\n"
   ]
  },
  {
   "cell_type": "code",
   "execution_count": 7,
   "id": "c6a5c3bf-78d3-4fa6-857b-2e3ab9350ee2",
   "metadata": {},
   "outputs": [
    {
     "name": "stdout",
     "output_type": "stream",
     "text": [
      "[7, 4]\n",
      "[4, 9]\n"
     ]
    }
   ],
   "source": [
    "user_cards = []\n",
    "computer_cards  = []\n",
    "for _ in range(2):\n",
    "    user_cards.append(deal_card())\n",
    "    computer_cards.append(deal_card())\n",
    "print(user_cards)\n",
    "print(computer_cards)"
   ]
  },
  {
   "cell_type": "code",
   "execution_count": null,
   "id": "0cb0a8d7-19d8-478b-8d7f-57fb85ebb6ac",
   "metadata": {},
   "outputs": [],
   "source": [
    "def calculate_score(cards):\n",
    "    if sum(cards) >= 21 and len(cards) == 2:\n",
    "        print(\"blackjack\")\n",
    "    elif sum(cards)\n",
    "    else:\n",
    "        choice = input(\"Draw or Stay: Y/N\")\n",
    "        if choice.lower() == \"y\":\n",
    "            user_card.append(deal_card)\n",
    "            \n",
    "            \n",
    "    "
   ]
  },
  {
   "cell_type": "code",
   "execution_count": null,
   "id": "65232288-54cd-4e88-8848-6109c4826744",
   "metadata": {},
   "outputs": [],
   "source": []
  }
 ],
 "metadata": {
  "kernelspec": {
   "display_name": "Python 3 (ipykernel)",
   "language": "python",
   "name": "python3"
  },
  "language_info": {
   "codemirror_mode": {
    "name": "ipython",
    "version": 3
   },
   "file_extension": ".py",
   "mimetype": "text/x-python",
   "name": "python",
   "nbconvert_exporter": "python",
   "pygments_lexer": "ipython3",
   "version": "3.11.5"
  }
 },
 "nbformat": 4,
 "nbformat_minor": 5
}
