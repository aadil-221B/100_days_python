{
 "cells": [
  {
   "cell_type": "markdown",
   "id": "0335756d",
   "metadata": {},
   "source": [
    "#### Write a program that adds the digits in a 2 digit number. e.g. if the input was 35, then the output should be 3 + 5 = 8"
   ]
  },
  {
   "cell_type": "code",
   "execution_count": 2,
   "id": "3eca97c4",
   "metadata": {},
   "outputs": [
    {
     "name": "stdout",
     "output_type": "stream",
     "text": [
      "35\n",
      "8\n"
     ]
    }
   ],
   "source": [
    "two_digit_number = input()\n",
    "# 🚨 Don't change the code above 👆\n",
    "####################################\n",
    "# Write your code below this line 👇\n",
    "total = 0\n",
    "for i in two_digit_number:\n",
    "    total+=int(i)\n",
    "print(total)\n",
    "    "
   ]
  },
  {
   "cell_type": "code",
   "execution_count": 4,
   "id": "7244e5e0",
   "metadata": {},
   "outputs": [
    {
     "name": "stdout",
     "output_type": "stream",
     "text": [
      "35\n",
      "8\n"
     ]
    }
   ],
   "source": [
    "two_digit_number = input()\n",
    "# 🚨 Don't change the code above 👆\n",
    "####################################\n",
    "# Write your code below this line 👇\n",
    "tens_digit = int(two_digit_number[0])\n",
    "ones_digit = int(two_digit_number[1])\n",
    "print(tens_digit+ones_digit)"
   ]
  },
  {
   "cell_type": "markdown",
   "id": "d412a9a9",
   "metadata": {},
   "source": [
    "Write a program that calculates the Body Mass Index (BMI) from a user's weight and height.\n",
    "\n",
    "BMI Wikipedia Page\n",
    "\n",
    "The BMI is a measure of someone's weight taking into account their height. e.g. If a tall person and a short person both weigh the same amount, the short person is usually more overweight.\n",
    "\n",
    "The BMI is calculated by dividing a person's weight (in kg) by the square of their height (in m):\n",
    "\n",
    "BMI Formula\n",
    "\n",
    "NOTE: You should convert the bmi to a whole number and print out a whole number in order to pass all the tests. See examples below.\n",
    "\n",
    "Example Input 1\n",
    "1.75\n",
    "80\n",
    "means: weight = 80 and height = 1.75"
   ]
  },
  {
   "cell_type": "code",
   "execution_count": 8,
   "id": "e1a61b1a",
   "metadata": {},
   "outputs": [
    {
     "name": "stdout",
     "output_type": "stream",
     "text": [
      "1.58\n",
      "57\n",
      "22\n"
     ]
    }
   ],
   "source": [
    "# 1st input: enter height in meters e.g: 1.65\n",
    "height = input()\n",
    "# 2nd input: enter weight in kilograms e.g: 72\n",
    "weight = input()\n",
    "# 🚨 Don't change the code above 👆\n",
    "\n",
    "# Write your code below this line 👇\n",
    "height = float(height)\n",
    "weight = float(weight)\n",
    "\n",
    "BMI = weight/(height**2)\n",
    "print(int(BMI))"
   ]
  },
  {
   "cell_type": "markdown",
   "id": "00586ad3",
   "metadata": {},
   "source": [
    "Create a program using maths and f-Strings that tells us how many weeks we have left, if we live until 90 years old.\n",
    "\n",
    "It will take your current age as the input and output a message with our time left in this format:\n",
    "\n",
    "You have x weeks left.\n",
    "Where x is replaced with the actual calculated number of weeks the input age has left until age 90."
   ]
  },
  {
   "cell_type": "code",
   "execution_count": 13,
   "id": "72cc216f",
   "metadata": {},
   "outputs": [
    {
     "name": "stdout",
     "output_type": "stream",
     "text": [
      "56\n",
      "You have 1768 left\n"
     ]
    }
   ],
   "source": [
    "age = input()\n",
    "# 🚨 Don't change the code above 👆\n",
    "# Write your code below this line 👇\n",
    "age_in_days = int(age)*52\n",
    "age_limit_days = 90*52\n",
    "weeks_left = (age_limit_days - age_in_days)\n",
    "print(f\"You have {weeks_left} left\")\n"
   ]
  },
  {
   "cell_type": "markdown",
   "id": "f7a9e117",
   "metadata": {},
   "source": [
    "## Tip Calculator\n",
    "\n",
    "# Instructions\n",
    "\n",
    "If the bill was $150.00, split between 5 people, with 12% tip. \n",
    "\n",
    "Each person should pay (150.00 / 5) * 1.12 = 33.6\n",
    "\n",
    "Format the result to 2 decimal places = 33.60\n",
    "\n",
    "Thus everyone's share of the total bill is $30.00 plus a $3.60 tip.\n",
    "\n",
    "Tip: There are 2 ways to round a number. You might have to do some Googling to solve this.💪\n",
    "\n",
    "\n",
    "# Example Input\n",
    "\n",
    "```\n",
    "Welcome to the tip calculator!\n",
    "What was the total bill? $124.56\n",
    "How much tip would you like to give? 10, 12, or 15? 12\n",
    "How many people to split the bill? 7\n",
    "```\n",
    "\n",
    "# Example Output\n",
    "\n",
    "```\n",
    "Each person should pay: $19.93\n",
    "```\n",
    "\n"
   ]
  },
  {
   "cell_type": "code",
   "execution_count": 18,
   "id": "f3bb5436",
   "metadata": {},
   "outputs": [
    {
     "name": "stdout",
     "output_type": "stream",
     "text": [
      "Welcome to the tip calculator!\n",
      "What was the total bill? 124.56\n",
      "How much tip would you like to give? 10, 12, or 15? 12\n",
      "How many people to split the bill? 7\n",
      "Each person should pay: $19.93\n"
     ]
    }
   ],
   "source": [
    "print(\"Welcome to the tip calculator!\")\n",
    "bill = float(input(\"What was the total bill? \"))\n",
    "tip = float(input(\"How much tip would you like to give? 10, 12, or 15? \"))\n",
    "tip/=100\n",
    "split = int(input(\"How many people to split the bill? \"))\n",
    "payment= bill/split\n",
    "payment*=(1+tip)\n",
    "print(f\"Each person should pay: ${round(payment,2)}\")\n"
   ]
  },
  {
   "cell_type": "code",
   "execution_count": 19,
   "id": "70e33dbd",
   "metadata": {},
   "outputs": [
    {
     "name": "stdout",
     "output_type": "stream",
     "text": [
      "Welcome to the tip calculator!\n",
      "What was the total bill?\n",
      "124.56\n",
      "How much tip would you like to give? 10, 12, or 15?\n",
      "12\n",
      "How many people to split the bill?\n",
      "7\n",
      "Each person should pay: $19.93\n"
     ]
    }
   ],
   "source": [
    "print(\"Welcome to the tip calculator!\")\n",
    "bill = float(input(\"What was the total bill?\\n\"))\n",
    "tip = float(input(\"How much tip would you like to give? 10, 12, or 15?\\n\"))\n",
    "tip/=100\n",
    "split = int(input(\"How many people to split the bill?\\n\"))\n",
    "payment= bill/split\n",
    "payment*=(1+tip)\n",
    "print(f\"Each person should pay: ${round(payment,2)}\")"
   ]
  },
  {
   "cell_type": "code",
   "execution_count": null,
   "id": "3188d840",
   "metadata": {},
   "outputs": [],
   "source": []
  },
  {
   "cell_type": "code",
   "execution_count": null,
   "id": "c3c69be5-c7d4-44b0-9f41-e13922a69c1a",
   "metadata": {},
   "outputs": [],
   "source": []
  },
  {
   "cell_type": "code",
   "execution_count": null,
   "id": "673950ca-f920-49b8-9653-b0ed77eb34f6",
   "metadata": {},
   "outputs": [],
   "source": []
  }
 ],
 "metadata": {
  "kernelspec": {
   "display_name": "Python 3 (ipykernel)",
   "language": "python",
   "name": "python3"
  },
  "language_info": {
   "codemirror_mode": {
    "name": "ipython",
    "version": 3
   },
   "file_extension": ".py",
   "mimetype": "text/x-python",
   "name": "python",
   "nbconvert_exporter": "python",
   "pygments_lexer": "ipython3",
   "version": "3.11.5"
  }
 },
 "nbformat": 4,
 "nbformat_minor": 5
}
