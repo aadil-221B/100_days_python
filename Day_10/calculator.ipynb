{
 "cells": [
  {
   "cell_type": "code",
   "execution_count": 11,
   "metadata": {},
   "outputs": [
    {
     "name": "stdout",
     "output_type": "stream",
     "text": [
      "You didn't provide valid inputs.\n"
     ]
    }
   ],
   "source": [
    "def format_name(f_name, l_name):\n",
    "    if f_name == \"\" and l_name == \"\":\n",
    "        return \"You didn't provide valid inputs.\"\n",
    "    f_name = f_name.title()\n",
    "    l_name = l_name.title()\n",
    "    return f\"{f_name} {l_name}\"\n",
    "print(format_name(input(\"What is your first name? \"),\n",
    "                  input(\"what is your last name? \")\n",
    "                  ))"
   ]
  },
  {
   "cell_type": "code",
   "execution_count": 14,
   "metadata": {},
   "outputs": [],
   "source": [
    "def is_leap(year):\n",
    "    if year% 4 ==0:\n",
    "        if year% 100 ==0:\n",
    "            if year%400 == 0:\n",
    "                return True\n",
    "            else:\n",
    "                return False\n",
    "        else:\n",
    "            return True\n",
    "    else:\n",
    "        return False"
   ]
  },
  {
   "cell_type": "code",
   "execution_count": 16,
   "metadata": {},
   "outputs": [
    {
     "name": "stdout",
     "output_type": "stream",
     "text": [
      "29\n"
     ]
    }
   ],
   "source": [
    "# TODO: Add more code here 👇\n",
    "def days_in_month(year, month):\n",
    "  month_days = [31, 28, 31, 30, 31, 30, 31, 31, 30, 31, 30, 31]\n",
    "  if is_leap(year) ==True and month == 2:\n",
    "    return 29\n",
    "  else:\n",
    "    return month_days[month-1]\n",
    "\n",
    "\n",
    "\n",
    "\n",
    "  \n",
    "#🚨 Do NOT change any of the code below \n",
    "year = int(input()) # Enter a year\n",
    "month = int(input()) # Enter a month\n",
    "days = days_in_month(year, month)\n",
    "print(days)\n",
    "\n"
   ]
  },
  {
   "cell_type": "code",
   "execution_count": 2,
   "metadata": {},
   "outputs": [],
   "source": [
    "from art import logo"
   ]
  },
  {
   "cell_type": "code",
   "execution_count": 18,
   "metadata": {},
   "outputs": [
    {
     "name": "stdout",
     "output_type": "stream",
     "text": [
      "\n",
      " _____________________\n",
      "|  _________________  |\n",
      "| | Pythonista   0. | |  .----------------.  .----------------.  .----------------.  .----------------. \n",
      "| |_________________| | | .--------------. || .--------------. || .--------------. || .--------------. |\n",
      "|  ___ ___ ___   ___  | | |     ______   | || |      __      | || |   _____      | || |     ______   | |\n",
      "| | 7 | 8 | 9 | | + | | | |   .' ___  |  | || |     /  \\     | || |  |_   _|     | || |   .' ___  |  | |\n",
      "| |___|___|___| |___| | | |  / .'   \\_|  | || |    / /\\ \\    | || |    | |       | || |  / .'   \\_|  | |\n",
      "| | 4 | 5 | 6 | | - | | | |  | |         | || |   / ____ \\   | || |    | |   _   | || |  | |         | |\n",
      "| |___|___|___| |___| | | |  \\ `.___.'\\  | || | _/ /    \\ \\_ | || |   _| |__/ |  | || |  \\ `.___.'\\  | |\n",
      "| | 1 | 2 | 3 | | x | | | |   `._____.'  | || ||____|  |____|| || |  |________|  | || |   `._____.'  | |\n",
      "| |___|___|___| |___| | | |              | || |              | || |              | || |              | |\n",
      "| | . | 0 | = | | / | | | '--------------' || '--------------' || '--------------' || '--------------' |\n",
      "| |___|___|___| |___| |  '----------------'  '----------------'  '----------------'  '----------------' \n",
      "|_____________________|\n",
      "\n"
     ]
    },
    {
     "name": "stdout",
     "output_type": "stream",
     "text": [
      "-\n",
      "+\n",
      "/\n",
      "*\n",
      "10.0 + 10.0 = 20.0\n"
     ]
    },
    {
     "ename": "ValueError",
     "evalue": "could not convert string to float: ''",
     "output_type": "error",
     "traceback": [
      "\u001b[1;31m---------------------------------------------------------------------------\u001b[0m",
      "\u001b[1;31mValueError\u001b[0m                                Traceback (most recent call last)",
      "Cell \u001b[1;32mIn[18], line 48\u001b[0m\n\u001b[0;32m     45\u001b[0m         \u001b[38;5;28;01melse\u001b[39;00m:\n\u001b[0;32m     46\u001b[0m             should_continue \u001b[38;5;241m=\u001b[39m \u001b[38;5;28;01mFalse\u001b[39;00m\n\u001b[1;32m---> 48\u001b[0m calculator()\n",
      "Cell \u001b[1;32mIn[18], line 30\u001b[0m, in \u001b[0;36mcalculator\u001b[1;34m()\u001b[0m\n\u001b[0;32m     27\u001b[0m should_continue \u001b[38;5;241m=\u001b[39m \u001b[38;5;28;01mTrue\u001b[39;00m\n\u001b[0;32m     28\u001b[0m \u001b[38;5;28;01mwhile\u001b[39;00m should_continue:\n\u001b[1;32m---> 30\u001b[0m     num1 \u001b[38;5;241m=\u001b[39m \u001b[38;5;28mfloat\u001b[39m(\u001b[38;5;28minput\u001b[39m(\u001b[38;5;124m\"\u001b[39m\u001b[38;5;124mWhat\u001b[39m\u001b[38;5;124m'\u001b[39m\u001b[38;5;124ms the first number?: \u001b[39m\u001b[38;5;124m\"\u001b[39m))\n\u001b[0;32m     31\u001b[0m     \u001b[38;5;28;01mfor\u001b[39;00m key \u001b[38;5;129;01min\u001b[39;00m operations\u001b[38;5;241m.\u001b[39mkeys():\n\u001b[0;32m     32\u001b[0m         \u001b[38;5;28mprint\u001b[39m(key)\n",
      "\u001b[1;31mValueError\u001b[0m: could not convert string to float: ''"
     ]
    }
   ],
   "source": [
    "\n",
    "\n",
    "# calculator\n",
    "\n",
    "# subtract\n",
    "def subtract(n1,n2):\n",
    "    return n1-n2\n",
    "# add\n",
    "def add(n1,n2):\n",
    "    return n1+n2\n",
    "# multiply\n",
    "def multiply(n1,n2):\n",
    "    return n1*n2\n",
    "# divide\n",
    "def divide(n1,n2):\n",
    "    return n1/n2\n",
    "\n",
    "\n",
    "operations = {\n",
    "    \"-\" : subtract,\n",
    "    \"+\" : add,\n",
    "    \"/\" : divide,\n",
    "    \"*\": multiply\n",
    "}\n",
    "\n",
    "def calculator():\n",
    "    print(logo)\n",
    "    \n",
    "    num1 = float(input(\"What's the first number?: \"))\n",
    "    for key in operations.keys():\n",
    "        print(key)\n",
    "    should_continue = True\n",
    "    while should_continue:\n",
    "\n",
    "        user_op = input(\"Enter the operation from above: \")\n",
    "        num2 = float (input(\"What's the next number: \"))\n",
    "        output = operations[user_op](num1, num2)\n",
    "        print(f\"{num1} {user_op} {num2} = {output}\")\n",
    "        \n",
    "        user_input = input(f\"Type 'y' to continue calculating with {output}, or type 'n' to start a new calculation, or type 'exit' to exit the calculation.: \")\n",
    "        if user_input.lower() == \"y\":\n",
    "            num1 = output\n",
    "        elif user_input.lower() == \"n\":\n",
    "            calculator()\n",
    "        else:\n",
    "            should_continue = False\n",
    "\n",
    "calculator()"
   ]
  },
  {
   "cell_type": "code",
   "execution_count": null,
   "metadata": {},
   "outputs": [],
   "source": []
  },
  {
   "cell_type": "code",
   "execution_count": null,
   "metadata": {},
   "outputs": [],
   "source": []
  }
 ],
 "metadata": {
  "kernelspec": {
   "display_name": "base",
   "language": "python",
   "name": "python3"
  },
  "language_info": {
   "codemirror_mode": {
    "name": "ipython",
    "version": 3
   },
   "file_extension": ".py",
   "mimetype": "text/x-python",
   "name": "python",
   "nbconvert_exporter": "python",
   "pygments_lexer": "ipython3",
   "version": "3.11.5"
  }
 },
 "nbformat": 4,
 "nbformat_minor": 2
}
