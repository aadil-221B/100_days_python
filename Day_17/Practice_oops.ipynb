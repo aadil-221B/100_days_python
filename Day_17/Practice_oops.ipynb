{
 "cells": [
  {
   "cell_type": "code",
   "execution_count": null,
   "id": "9e4df1b9-30df-4254-b866-fa3e8db46f51",
   "metadata": {},
   "outputs": [],
   "source": [
    "from data import question_data"
   ]
  },
  {
   "cell_type": "code",
   "execution_count": null,
   "id": "672f6724-f715-4478-ab99-0e76f7891d41",
   "metadata": {},
   "outputs": [],
   "source": [
    "class Data:\n",
    "    def __init__(self, data):\n",
    "        self.data = data\n",
    "        self.score = 0\n",
    "        for index,items in enumerate(self.data):\n",
    "            q,a = (items[\"text\"], items[\"answer\"])\n",
    "       \n",
    "            self.quiz = Quiz(index,q,a, self.score)\n",
    "            self.quiz.display()\n",
    "\n",
    "\n",
    "class Quiz:\n",
    "    def __init__(self,index,q,a, score):\n",
    "        self.questions = q\n",
    "        self.answers = a\n",
    "        self.i = index\n",
    "        self.score = score\n",
    "    def display(self):\n",
    "        user_input = input(f\"Q.{self.i+1}: {self.questions} (True/False)?: \")\n",
    "        if user_input.title() == self.answers:\n",
    "            print(\"You got it right!\")\n",
    "            self.score+=1\n",
    "        else:\n",
    "            print(\"That's wrong\")\n",
    "        print(f\"The correct answer was: {self.answers}\")\n",
    "        print(f\"Your current score is: {self.score}/{self.i+1}\")\n",
    "        print()\n",
    "            \n",
    "\n",
    "\n",
    "\n",
    "\n",
    "        "
   ]
  },
  {
   "cell_type": "code",
   "execution_count": null,
   "id": "6497ccbe-457c-454d-907a-d6a10c07627a",
   "metadata": {},
   "outputs": [],
   "source": []
  },
  {
   "cell_type": "code",
   "execution_count": null,
   "id": "f75faec3-def5-4abd-a900-e19d04f248ff",
   "metadata": {},
   "outputs": [],
   "source": [
    "\n",
    "class Quiz:\n",
    "    def __init__(self,index,q,a):\n",
    "        self.questions = q\n",
    "        self.answers = a\n",
    "        self.i = index\n",
    "        self.score = 0\n",
    "    def display(self):\n",
    "        user_input = input(f\"Q.{self.i+1}: {self.questions} (True/False)?: \")\n",
    "        if user_input.title() == self.answers:\n",
    "            print(\"You got it right!\")\n",
    "            self.score+=1\n",
    "        else:\n",
    "            print(\"That's wrong\")\n",
    "        print(f\"The correct answer was: {self.answers}\")\n",
    "        print(f\"Your current score is: {self.score}/{self.i+1}\")\n",
    "        print()\n",
    "            \n",
    "\n",
    "\n",
    "        \n",
    "        "
   ]
  },
  {
   "cell_type": "code",
   "execution_count": null,
   "id": "29be09b7-62d9-46f7-86b4-330cd80f7f86",
   "metadata": {},
   "outputs": [],
   "source": [
    "Data(question_data)"
   ]
  },
  {
   "cell_type": "code",
   "execution_count": null,
   "id": "10bac4d2-b7b1-4744-ae23-f9e011e07ff1",
   "metadata": {},
   "outputs": [],
   "source": []
  },
  {
   "cell_type": "code",
   "execution_count": null,
   "id": "f15b2025-e58e-4aee-ab20-5a4bb6fea06e",
   "metadata": {},
   "outputs": [],
   "source": []
  },
  {
   "cell_type": "code",
   "execution_count": null,
   "id": "b77e02ad-636f-466a-b9ce-2b3b3706b7e8",
   "metadata": {},
   "outputs": [],
   "source": []
  },
  {
   "cell_type": "code",
   "execution_count": 1,
   "id": "fcbc3b5e-52b5-43cf-936a-2dc2f46a97ae",
   "metadata": {},
   "outputs": [
    {
     "name": "stdin",
     "output_type": "stream",
     "text": [
      "Q.1: Question 1 (True/False)?:  True\n"
     ]
    },
    {
     "name": "stdout",
     "output_type": "stream",
     "text": [
      "You got it right!\n",
      "The correct answer was: True\n",
      "Your current score is: 1/1\n",
      "\n"
     ]
    },
    {
     "name": "stdin",
     "output_type": "stream",
     "text": [
      "Q.2: Question 2 (True/False)?:  False\n"
     ]
    },
    {
     "name": "stdout",
     "output_type": "stream",
     "text": [
      "You got it right!\n",
      "The correct answer was: False\n",
      "Your current score is: 2/2\n",
      "\n"
     ]
    }
   ],
   "source": [
    "class Data:\n",
    "    def __init__(self, data):\n",
    "        self.data = data\n",
    "        self.score = 0  # Initialize the score outside the loop\n",
    "        for index, items in enumerate(self.data):\n",
    "            q, a = (items[\"text\"], items[\"answer\"])\n",
    "\n",
    "            # Pass the score to the Quiz constructor\n",
    "            self.quiz = Quiz(index, q, a, self.score)\n",
    "            self.score = self.quiz.display()  # Update the score based on the Quiz result\n",
    "\n",
    "\n",
    "class Quiz:\n",
    "    def __init__(self, index, q, a, score):\n",
    "        self.questions = q\n",
    "        self.answers = a\n",
    "        self.i = index\n",
    "        self.score = score  # Receive and store the score\n",
    "\n",
    "    def display(self):\n",
    "        user_input = input(f\"Q.{self.i+1}: {self.questions} (True/False)?: \")\n",
    "        if user_input.title() == self.answers:\n",
    "            print(\"You got it right!\")\n",
    "            self.score += 1  # Update the score\n",
    "        else:\n",
    "            print(\"That's wrong\")\n",
    "        print(f\"The correct answer was: {self.answers}\")\n",
    "        print(f\"Your current score is: {self.score}/{self.i+1}\")\n",
    "        print()\n",
    "        return self.score  # Return the updated score\n",
    "\n",
    "\n",
    "# Example usage\n",
    "data = [\n",
    "    {\"text\": \"Question 1\", \"answer\": \"True\"},\n",
    "    {\"text\": \"Question 2\", \"answer\": \"False\"},\n",
    "    # Add more questions as needed\n",
    "]\n",
    "\n",
    "data_instance = Data(data)"
   ]
  },
  {
   "cell_type": "code",
   "execution_count": null,
   "id": "3362fe58-41a8-4e52-8353-ace68f3e9774",
   "metadata": {},
   "outputs": [],
   "source": []
  }
 ],
 "metadata": {
  "kernelspec": {
   "display_name": "Python 3 (ipykernel)",
   "language": "python",
   "name": "python3"
  },
  "language_info": {
   "codemirror_mode": {
    "name": "ipython",
    "version": 3
   },
   "file_extension": ".py",
   "mimetype": "text/x-python",
   "name": "python",
   "nbconvert_exporter": "python",
   "pygments_lexer": "ipython3",
   "version": "3.11.5"
  }
 },
 "nbformat": 4,
 "nbformat_minor": 5
}
