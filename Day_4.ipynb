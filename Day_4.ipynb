{
 "cells": [
  {
   "cell_type": "code",
   "execution_count": 1,
   "id": "acaeae51",
   "metadata": {},
   "outputs": [],
   "source": [
    "import random"
   ]
  },
  {
   "cell_type": "markdown",
   "id": "715e6a3c",
   "metadata": {},
   "source": [
    "Generate Random Integers\n",
    "The random module provides some special methods for generating random integers.\n",
    "\n",
    "\n",
    "1. randrange(start, stop, step)\n",
    "Returns a randomly selected integer from range(start, stop, step). This raises a ValueError if start > stop.\n",
    "\n",
    "2. randint(a, b)\n",
    "Returns a random integer between a and b (both inclusive). This also raises a ValueError if a > b."
   ]
  },
  {
   "cell_type": "code",
   "execution_count": 2,
   "id": "82af8115",
   "metadata": {},
   "outputs": [
    {
     "data": {
      "text/plain": [
       "5"
      ]
     },
     "execution_count": 2,
     "metadata": {},
     "output_type": "execute_result"
    }
   ],
   "source": [
    "random.randrange(10)"
   ]
  },
  {
   "cell_type": "code",
   "execution_count": 3,
   "id": "5187b718",
   "metadata": {},
   "outputs": [
    {
     "data": {
      "text/plain": [
       "20"
      ]
     },
     "execution_count": 3,
     "metadata": {},
     "output_type": "execute_result"
    }
   ],
   "source": [
    "random.randint(10,20)"
   ]
  },
  {
   "cell_type": "markdown",
   "id": "d3b0d3db",
   "metadata": {},
   "source": [
    "Generating Random floating point numbers\n",
    "Similar to generating integers, there are functions that generate random floating point sequences.\n",
    "\n",
    "random.random() -> Returns the next random floating point number between [0.0 to 1.0)\n",
    "random.uniform(a, b) -> Returns a random floating point N such that a <= N <= b if a <= b and b <= N <= a if b < a.\n",
    "random.expovariate(lambda) -> Returns a number corresponding to an exponential distribution.\n",
    "random.gauss(mu, sigma) -> Returns a number corresponding to a gaussian distribution."
   ]
  },
  {
   "cell_type": "code",
   "execution_count": 4,
   "id": "82460b36",
   "metadata": {},
   "outputs": [
    {
     "data": {
      "text/plain": [
       "0.4176306350112866"
      ]
     },
     "execution_count": 4,
     "metadata": {},
     "output_type": "execute_result"
    }
   ],
   "source": [
    "random.random()"
   ]
  },
  {
   "cell_type": "code",
   "execution_count": 5,
   "id": "fd15d5c0",
   "metadata": {},
   "outputs": [
    {
     "data": {
      "text/plain": [
       "13.459312664652103"
      ]
     },
     "execution_count": 5,
     "metadata": {},
     "output_type": "execute_result"
    }
   ],
   "source": [
    "random.uniform(10,20)"
   ]
  },
  {
   "cell_type": "code",
   "execution_count": null,
   "id": "b9fd7e98",
   "metadata": {},
   "outputs": [],
   "source": []
  },
  {
   "cell_type": "code",
   "execution_count": null,
   "id": "88db9049",
   "metadata": {},
   "outputs": [],
   "source": []
  },
  {
   "cell_type": "code",
   "execution_count": 6,
   "id": "00d43c85",
   "metadata": {},
   "outputs": [
    {
     "name": "stdout",
     "output_type": "stream",
     "text": [
      "enhter space seperated names: apple ball cat\n",
      "['apple', 'ball', 'cat']\n"
     ]
    }
   ],
   "source": [
    "names = input(\"enhter space seperated names: \").split(\" \")\n",
    "print(names)"
   ]
  },
  {
   "cell_type": "code",
   "execution_count": 7,
   "id": "b13a730d",
   "metadata": {},
   "outputs": [],
   "source": [
    "# choose random value from a list where input is string"
   ]
  },
  {
   "cell_type": "code",
   "execution_count": 9,
   "id": "c8f7bb55",
   "metadata": {},
   "outputs": [
    {
     "name": "stdout",
     "output_type": "stream",
     "text": [
      "Enter space seperated names: apple ball cat dog\n",
      "['apple', 'ball', 'cat', 'dog']\n",
      "dog\n"
     ]
    }
   ],
   "source": [
    "names = input(\"Enter space seperated names: \").split()\n",
    "print(names)\n",
    "l = len(names)\n",
    "choose = random.randint(0,l-1)\n",
    "print(names[choose])"
   ]
  },
  {
   "cell_type": "code",
   "execution_count": 11,
   "id": "19c92952",
   "metadata": {},
   "outputs": [
    {
     "name": "stdout",
     "output_type": "stream",
     "text": [
      "dog\n"
     ]
    }
   ],
   "source": [
    "# or we can use random.choice()\n",
    "print(random.choice(names))"
   ]
  },
  {
   "cell_type": "markdown",
   "id": "36952f37",
   "metadata": {},
   "source": [
    "Instructions\n",
    "This is a difficult challenge. 💪\n",
    "\n",
    "You are going to write a program that will mark a spot on a map with an X.\n",
    "\n",
    "In the starting code, you will find a variable called map.\n",
    "\n",
    "This map contains a nested list. When map is printed this is what it looks like, notice the nesting:\n",
    "\n",
    "[['⬜️', '⬜️', '⬜️'],['⬜️', '⬜️', '⬜️'],['⬜️', '⬜️', '⬜️']]\n",
    "\n",
    "This is a bit hard to work with. So on lines 6 and 23, we've used this line of code print(f\"{row1}\\n{row2}\\n{row3}\") to format the 3 lists to be printed as a 3 by 3 grid, each on a new line.\n",
    "\n",
    "['⬜️', '⬜️', '⬜️']\n",
    "\n",
    "['⬜️', '⬜️', '⬜️']\n",
    "\n",
    "['⬜️', '⬜️', '⬜️']\n",
    "Now it looks a bit more like the coordinates of a real map:\n",
    "\n",
    "Map Coordinates Example\n",
    "\n",
    "Your job is to write a program that allows you to mark a square on the map using a letter-number system.\n",
    "\n",
    "List coordinates\n",
    "\n",
    "\n",
    "Exmaple location\n",
    "\n",
    "First, your program must take the user input and convert it to a usable format.\n",
    "\n",
    "Next, you need to use that input to update your nested list with an \"X\". Remember that your nested list map actually looks like this:\n",
    "\n",
    "[['⬜️', '⬜️', '⬜️'],['⬜️', '⬜️', '⬜️'],['⬜️', '⬜️', '⬜️']]\n",
    "Example Input 1\n",
    "B3\n",
    "Example Output 1\n",
    "Hiding your treasure! X marks the spot.\n",
    "['⬜️', '️⬜️', '️⬜️']\n",
    "['⬜️', '⬜️', '️⬜️']\n",
    "['⬜️️', 'X', '⬜️️']\n",
    "Example Input 2\n",
    "B1\n",
    "Example Output 2\n",
    "Hiding your treasure! X marks the spot.\n",
    "['⬜️', 'X', '️⬜️']\n",
    "['⬜️', '⬜️', '️⬜️']\n",
    "['⬜️️', '⬜️️', '⬜️️']"
   ]
  },
  {
   "cell_type": "code",
   "execution_count": 35,
   "id": "01d8f7da",
   "metadata": {},
   "outputs": [
    {
     "name": "stdout",
     "output_type": "stream",
     "text": [
      "Hiding your treasure! X marks the spot.\n",
      "\"A3\"\n",
      "Enter values in the form of: \"A3\"..A3\n",
      "['⬜️', '️⬜️', '️⬜️']\n",
      "['⬜️', '⬜️', '️⬜️']\n",
      "['X', '⬜️️', '⬜️️']\n"
     ]
    }
   ],
   "source": [
    "line1 = [\"⬜️\",\"️⬜️\",\"️⬜️\"]\n",
    "line2 = [\"⬜️\",\"⬜️\",\"️⬜️\"]\n",
    "line3 = [\"⬜️️\",\"⬜️️\",\"⬜️️\"]\n",
    "map = [line1, line2, line3]\n",
    "print(\"Hiding your treasure! X marks the spot.\")\n",
    "position = input() # Where do you want to put the treasure?\n",
    "# 🚨 Don't change the code above 👆\n",
    "# Write your code below this row 👇\n",
    "# here A B C represents columns\n",
    "# 1 2 3 represents rows\n",
    "A = 0\n",
    "B = 1\n",
    "C = 2\n",
    "position = input(\"Enter values in the form of: \\\"A3\\\"..\")\n",
    "column =position[0]\n",
    "row = int(position[1])-1\n",
    "if column == \"A\":\n",
    "    column = 0\n",
    "elif column == \"B\":\n",
    "    column = 1\n",
    "else:\n",
    "    column = 2\n",
    "map[row][column] = \"X\"\n",
    "\n",
    "\n",
    "\n",
    "# Write your code above this row 👆\n",
    "# 🚨 Don't change the code below 👇\n",
    "print(f\"{line1}\\n{line2}\\n{line3}\")"
   ]
  },
  {
   "cell_type": "code",
   "execution_count": 33,
   "id": "3b32bc07",
   "metadata": {},
   "outputs": [
    {
     "name": "stdout",
     "output_type": "stream",
     "text": [
      "[['⬜️', '️⬜️', '️⬜️'], ['⬜️', '⬜️', '️⬜️'], ['⬜️️', '⬜️️', '⬜️️']]\n",
      "[['⬜️', '️⬜️', '️⬜️'], ['⬜️', '⬜️', '️⬜️'], ['X', '⬜️️', '⬜️️']]\n"
     ]
    }
   ],
   "source": [
    "line1 = [\"⬜️\",\"️⬜️\",\"️⬜️\"]\n",
    "line2 = [\"⬜️\",\"⬜️\",\"️⬜️\"]\n",
    "line3 = [\"⬜️️\",\"⬜️️\",\"⬜️️\"]\n",
    "map = [line1, line2, line3]\n",
    "print(map)\n",
    "A = 0\n",
    "B = 1\n",
    "C = 2\n",
    "position = \"A3\"\n",
    "column =position[0]\n",
    "row = int(position[1])-1\n",
    "if column == \"A\":\n",
    "    column = 0\n",
    "elif column == \"B\":\n",
    "    column = 1\n",
    "else:\n",
    "    column = 2\n",
    "map[row][column] = \"X\"\n",
    "print(map)\n",
    "\n",
    "    \n",
    "\n",
    "\n"
   ]
  },
  {
   "cell_type": "code",
   "execution_count": null,
   "id": "eb8fc516",
   "metadata": {},
   "outputs": [],
   "source": []
  }
 ],
 "metadata": {
  "kernelspec": {
   "display_name": "Python 3 (ipykernel)",
   "language": "python",
   "name": "python3"
  },
  "language_info": {
   "codemirror_mode": {
    "name": "ipython",
    "version": 3
   },
   "file_extension": ".py",
   "mimetype": "text/x-python",
   "name": "python",
   "nbconvert_exporter": "python",
   "pygments_lexer": "ipython3",
   "version": "3.9.7"
  }
 },
 "nbformat": 4,
 "nbformat_minor": 5
}
