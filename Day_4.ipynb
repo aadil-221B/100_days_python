{
 "cells": [
  {
   "cell_type": "code",
   "execution_count": 1,
   "id": "63b22e6b",
   "metadata": {},
   "outputs": [],
   "source": [
    "import random"
   ]
  },
  {
   "cell_type": "markdown",
   "id": "d2fefc21",
   "metadata": {},
   "source": [
    "Generate Random Integers\n",
    "The random module provides some special methods for generating random integers.\n",
    "\n",
    "\n",
    "1. randrange(start, stop, step)\n",
    "Returns a randomly selected integer from range(start, stop, step). This raises a ValueError if start > stop.\n",
    "\n",
    "2. randint(a, b)\n",
    "Returns a random integer between a and b (both inclusive). This also raises a ValueError if a > b."
   ]
  },
  {
   "cell_type": "code",
   "execution_count": 3,
   "id": "1210239d",
   "metadata": {},
   "outputs": [
    {
     "data": {
      "text/plain": [
       "2"
      ]
     },
     "execution_count": 3,
     "metadata": {},
     "output_type": "execute_result"
    }
   ],
   "source": [
    "random.randrange(10)"
   ]
  },
  {
   "cell_type": "code",
   "execution_count": 4,
   "id": "aa3568c8",
   "metadata": {},
   "outputs": [
    {
     "data": {
      "text/plain": [
       "15"
      ]
     },
     "execution_count": 4,
     "metadata": {},
     "output_type": "execute_result"
    }
   ],
   "source": [
    "random.randint(10,20)"
   ]
  },
  {
   "cell_type": "markdown",
   "id": "936ed690",
   "metadata": {},
   "source": [
    "Generating Random floating point numbers\n",
    "Similar to generating integers, there are functions that generate random floating point sequences.\n",
    "\n",
    "random.random() -> Returns the next random floating point number between [0.0 to 1.0)\n",
    "random.uniform(a, b) -> Returns a random floating point N such that a <= N <= b if a <= b and b <= N <= a if b < a.\n",
    "random.expovariate(lambda) -> Returns a number corresponding to an exponential distribution.\n",
    "random.gauss(mu, sigma) -> Returns a number corresponding to a gaussian distribution."
   ]
  },
  {
   "cell_type": "code",
   "execution_count": 5,
   "id": "0b55c1c8",
   "metadata": {},
   "outputs": [
    {
     "data": {
      "text/plain": [
       "0.03529688253778818"
      ]
     },
     "execution_count": 5,
     "metadata": {},
     "output_type": "execute_result"
    }
   ],
   "source": [
    "random.random()"
   ]
  },
  {
   "cell_type": "code",
   "execution_count": 6,
   "id": "a4670337",
   "metadata": {},
   "outputs": [
    {
     "data": {
      "text/plain": [
       "10.99678712460878"
      ]
     },
     "execution_count": 6,
     "metadata": {},
     "output_type": "execute_result"
    }
   ],
   "source": [
    "random.uniform(10,20)"
   ]
  },
  {
   "cell_type": "code",
   "execution_count": null,
   "id": "a6369f0b",
   "metadata": {},
   "outputs": [],
   "source": []
  }
 ],
 "metadata": {
  "kernelspec": {
   "display_name": "Python 3 (ipykernel)",
   "language": "python",
   "name": "python3"
  },
  "language_info": {
   "codemirror_mode": {
    "name": "ipython",
    "version": 3
   },
   "file_extension": ".py",
   "mimetype": "text/x-python",
   "name": "python",
   "nbconvert_exporter": "python",
   "pygments_lexer": "ipython3",
   "version": "3.9.7"
  }
 },
 "nbformat": 4,
 "nbformat_minor": 5
}
