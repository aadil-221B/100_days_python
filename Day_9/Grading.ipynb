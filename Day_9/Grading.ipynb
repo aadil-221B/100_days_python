{
 "cells": [
  {
   "cell_type": "code",
   "execution_count": 1,
   "metadata": {},
   "outputs": [
    {
     "name": "stdout",
     "output_type": "stream",
     "text": [
      "{'Harry': 'Exceeds Expectations', 'Ron': 'Acceptable', 'Hermione': 'Outstanding', 'Draco': 'Acceptable', 'Neville': 'Fail'}\n"
     ]
    }
   ],
   "source": [
    "student_scores = {\n",
    "  \"Harry\": 81,\n",
    "  \"Ron\": 78,\n",
    "  \"Hermione\": 99, \n",
    "  \"Draco\": 74,\n",
    "  \"Neville\": 62,\n",
    "}\n",
    "# 🚨 Don't change the code above 👆\n",
    "# TODO-1: Create an empty dictionary called student_grades.\n",
    "student_grades = {}\n",
    "\n",
    "# TODO-2: Write your code below to add the grades to student_grades.👇\n",
    "def grades(score):\n",
    "    if score <= 70:\n",
    "        return \"Fail\"\n",
    "    elif 71 <= score <= 80:\n",
    "        return \"Acceptable\"\n",
    "    elif 81 <=score<= 90:\n",
    "        return \"Exceeds Expectations\"\n",
    "    else:\n",
    "        return \"Outstanding\"\n",
    "def main(student_scores):\n",
    "    for name, score in student_scores.items():\n",
    "        student_grades[name] = grades(score)\n",
    "main(student_scores)\n",
    "\n",
    "\n",
    "\n",
    "# 🚨 Don't change the code below 👇\n",
    "print(student_grades)"
   ]
  },
  {
   "cell_type": "code",
   "execution_count": 2,
   "metadata": {},
   "outputs": [
    {
     "name": "stdout",
     "output_type": "stream",
     "text": [
      "{'Harry': 'Exceeds Expectations', 'Ron': 'Acceptable', 'Hermione': 'Outstanding', 'Draco': 'Acceptable', 'Neville': 'Fail'}\n"
     ]
    }
   ],
   "source": [
    "student_grades = {}\n",
    "for name, score in student_scores.items():\n",
    "    if score <= 70:\n",
    "        student_grades[name]=\"Fail\"\n",
    "    elif 71 <= score <= 80:\n",
    "        student_grades[name] = \"Acceptable\"\n",
    "    elif 81 <=score<= 90:\n",
    "        student_grades[name] = \"Exceeds Expectations\"\n",
    "    else:\n",
    "        student_grades[name] = \"Outstanding\"\n",
    "print(student_grades)   "
   ]
  },
  {
   "cell_type": "code",
   "execution_count": null,
   "metadata": {},
   "outputs": [],
   "source": []
  }
 ],
 "metadata": {
  "kernelspec": {
   "display_name": "base",
   "language": "python",
   "name": "python3"
  },
  "language_info": {
   "codemirror_mode": {
    "name": "ipython",
    "version": 3
   },
   "file_extension": ".py",
   "mimetype": "text/x-python",
   "name": "python",
   "nbconvert_exporter": "python",
   "pygments_lexer": "ipython3",
   "version": "3.11.5"
  }
 },
 "nbformat": 4,
 "nbformat_minor": 2
}
