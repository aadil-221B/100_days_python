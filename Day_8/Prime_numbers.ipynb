{
 "cells": [
  {
   "cell_type": "code",
   "execution_count": 25,
   "metadata": {},
   "outputs": [],
   "source": [
    "def prime_checker(number):\n",
    "    is_prime = True\n",
    "    if number < 2:\n",
    "        is_prime = False\n",
    "    else:\n",
    "        for i in range(2,number):\n",
    "            if number%i ==0:\n",
    "                is_prime=False\n",
    "            else:\n",
    "                continue\n",
    "        if is_prime:\n",
    "            print(\"It's a prime number.\")\n",
    "        else:\n",
    "            print(\"It's not a prime number.\")\n",
    "\n"
   ]
  },
  {
   "cell_type": "code",
   "execution_count": 26,
   "metadata": {},
   "outputs": [
    {
     "name": "stdout",
     "output_type": "stream",
     "text": [
      "It's not a prime number.\n"
     ]
    }
   ],
   "source": [
    "n = int(input(\"Enter a number: \"))\n",
    "prime_checker(number= n)"
   ]
  },
  {
   "cell_type": "code",
   "execution_count": 5,
   "metadata": {},
   "outputs": [
    {
     "name": "stdout",
     "output_type": "stream",
     "text": [
      "It's not a prime number.\n"
     ]
    }
   ],
   "source": [
    "# using while loop\n",
    "number = 10\n",
    "i = 2\n",
    "is_prime= True\n",
    "while i < number:\n",
    "    if number%i ==0:\n",
    "        is_prime=False\n",
    "        i = number\n",
    "    else:\n",
    "        i+=1\n",
    "if is_prime:\n",
    "    print(\"It's a prime number.\")\n",
    "else:\n",
    "    print(\"It's not a prime number.\")\n"
   ]
  },
  {
   "cell_type": "code",
   "execution_count": null,
   "metadata": {},
   "outputs": [],
   "source": []
  }
 ],
 "metadata": {
  "kernelspec": {
   "display_name": "base",
   "language": "python",
   "name": "python3"
  },
  "language_info": {
   "codemirror_mode": {
    "name": "ipython",
    "version": 3
   },
   "file_extension": ".py",
   "mimetype": "text/x-python",
   "name": "python",
   "nbconvert_exporter": "python",
   "pygments_lexer": "ipython3",
   "version": "3.11.5"
  }
 },
 "nbformat": 4,
 "nbformat_minor": 2
}
