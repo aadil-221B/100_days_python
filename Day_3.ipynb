{
 "cells": [
  {
   "cell_type": "markdown",
   "id": "58e49e7e",
   "metadata": {},
   "source": [
    "Write a program that interprets the Body Mass Index (BMI) based on a user's weight and height.\n",
    "\n",
    "### It should tell them the interpretation of their BMI based on the BMI value.\n",
    "```\n",
    "    Under 18.5 they are underweight\n",
    "    Over 18.5 but below 25 they have a normal weight\n",
    "    Equal to or over 25 but below 30 they are slightly overweight\n",
    "    Equal to or over 30 but below 35 they are obese\n",
    "    Equal to or over 35 they are clinically obese.\n",
    "```\n",
    "\n",
    "The BMI is calculated by dividing a person's weight (in kg) by the square of their height (in m):\n",
    "\n",
    "BMI Formula\n",
    "\n",
    "Important: you do not need to round the result to the nearest whole number. It's fine to print out a floating point number for this exercise. The interpretation message needs to include the words from the interpretations above. e.g. underweight, normal weight, overweight, obese, clinically obese.\n",
    "\n",
    "#### Example Input 1\n",
    "```\n",
    "1.50\n",
    "63\n",
    "Example Output 1\n",
    "Your BMI is 28.0, you are slightly overweight.\n",
    "since 63 ÷ (1.50 x 1.50) = 28\n",
    "```\n",
    "\n",
    "### The testing code will check for print output that is formatted like one of the lines below:\n",
    "\n",
    "```\n",
    "    \"Your BMI is 18.28678, you are underweight.\"\n",
    "    \"Your BMI is 22.0, you have a normal weight.\"\n",
    "    \"Your BMI is 28.50752, you are slightly overweight.\"\n",
    "    \"Your BMI is 32.56189, you are obese.\"\n",
    "    \"Your BMI is 37.50000, you are clinically \n",
    "```"
   ]
  },
  {
   "cell_type": "code",
   "execution_count": 2,
   "id": "6bf0af70",
   "metadata": {},
   "outputs": [
    {
     "name": "stdout",
     "output_type": "stream",
     "text": [
      "1.50\n",
      "63\n",
      "Your BMI is 28.0, you are slightly overweight.\n"
     ]
    }
   ],
   "source": [
    "# Enter your height in meters e.g., 1.55\n",
    "height = float(input())\n",
    "# Enter your weight in kilograms e.g., 72\n",
    "weight = int(input())\n",
    "# 🚨 Don't change the code above 👆\n",
    "\n",
    "#Write your code below this line 👇\n",
    "\n",
    "BMI = weight/height**2\n",
    "if BMI <= 18.5:\n",
    "    print(f\"Your BMI is {BMI}, you are underweight.\")\n",
    "elif BMI <25:\n",
    "    print(f\"Your BMI is {BMI}, you are normalweight.\")\n",
    "elif BMI <30:\n",
    "    print(f\"Your BMI is {BMI}, you are slightly overweight.\")\n",
    "elif BMI <35:\n",
    "    print(f\"Your BMI is {BMI}, you are obese.\")\n",
    "else:\n",
    "    print(f\"Your BMI is {BMI}, you are clinically obese.\")\n",
    "    "
   ]
  },
  {
   "cell_type": "markdown",
   "id": "e6886b27",
   "metadata": {},
   "source": [
    "Congratulations, you've got a job at Python Pizza! Your first job is to build an automatic pizza order program.\n",
    "\n",
    "#### Based on a user's order, work out their final bill.\n",
    "```\n",
    "Small pizza (S): $15\n",
    "\n",
    "Medium pizza (M): $20\n",
    "\n",
    "Large pizza (L): $25\n",
    "\n",
    "Add pepperoni for small pizza (Y or N): +$2\n",
    "\n",
    "Add pepperoni for medium or large pizza (Y or N): +$3\n",
    "\n",
    "Add extra cheese for any size pizza (Y or N): +$1\n",
    "```\n",
    "\n",
    "#### Example Input\n",
    "````\n",
    "L\n",
    "Y\n",
    "N\n",
    "````\n",
    "Example Output\n",
    "`````\n",
    "Thank you for choosing Python Pizza Deliveries!\n",
    "Your final bill is: $28.\n",
    "`````"
   ]
  },
  {
   "cell_type": "code",
   "execution_count": 4,
   "id": "275e6eee",
   "metadata": {},
   "outputs": [
    {
     "name": "stdout",
     "output_type": "stream",
     "text": [
      "Thank you for choosing Python Pizza Deliveries!\n",
      "L\n",
      "Y\n",
      "N\n",
      "Your final bill is: $28\n"
     ]
    }
   ],
   "source": [
    "print(\"Thank you for choosing Python Pizza Deliveries!\")\n",
    "size = input() # What size pizza do you want? S, M, or L\n",
    "add_pepperoni = input() # Do you want pepperoni? Y or N\n",
    "extra_cheese = input() # Do you want extra cheese? Y or N\n",
    "# 🚨 Don't change the code above 👆\n",
    "# Write your code below this line 👇\n",
    "bill = 0\n",
    "if size.lower() == \"s\":\n",
    "    bill+=15\n",
    "    if add_pepperoni.lower() == 'y':\n",
    "        bill+=2\n",
    "elif size.lower() == \"l\":\n",
    "    bill+=25\n",
    "    if add_pepperoni.lower() == \"y\":\n",
    "        bill+=3\n",
    "else:\n",
    "    bill+=20\n",
    "    if add_pepperoni.lower() == \"y\":\n",
    "        bill+=3\n",
    "if extra_cheese.lower() == \"y\":\n",
    "    bill+=1\n",
    "print(f\"Your final bill is: ${bill}.\")"
   ]
  },
  {
   "cell_type": "markdown",
   "id": "3bf5963a",
   "metadata": {},
   "source": [
    "\n",
    "##### You are going to write a program that tests the compatibility between two people.\n",
    "\n",
    "##### To work out the love score between two people:\n",
    "\n",
    "##### Take both people's names and check for the number of times the letters in the word TRUE occurs.\n",
    "\n",
    "##### Then check for the number of times the letters in the word LOVE occurs.\n",
    "\n",
    "##### Then combine these numbers to make a 2 digit number.\n",
    "`\n",
    "#### For Love Scores less than 10 or greater than 90, the message should be:\n",
    "\n",
    "``` \"Your score is *x*, you go together like coke and mentos.\"```\n",
    "#### For Love Scores between 40 and 50, the message should be:\n",
    "\n",
    "```\"Your score is *y*, you are alright together.\"```\n",
    "\n",
    "```\n",
    "Otherwise, the message will just be their score.\n",
    "````\n",
    "\n",
    "\n",
    "e.g.:\n",
    "\n",
    "\"Your score is *z*.\"\n",
    "\n",
    "```\n",
    "e.g.\n",
    "\n",
    "name1 = \"Angela Yu\"\n",
    "name2 = \"Jack Bauer\"\n",
    "T occurs 0 times\n",
    "\n",
    "R occurs 1 time\n",
    "\n",
    "U occurs 2 times\n",
    "\n",
    "E occurs 2 times\n",
    "\n",
    "Total = 5\n",
    "\n",
    "L occurs 1 time\n",
    "\n",
    "O occurs 0 times\n",
    "\n",
    "V occurs 0 times\n",
    "\n",
    "E occurs 2 times\n",
    "\n",
    "Total = 3\n",
    "\n",
    "Love Score = 53\n",
    "\n",
    "Print: \"Your score is 53.\"\n",
    "```"
   ]
  },
  {
   "cell_type": "code",
   "execution_count": 22,
   "id": "7812f650",
   "metadata": {},
   "outputs": [
    {
     "name": "stdout",
     "output_type": "stream",
     "text": [
      "\"Angela Yu\"\n",
      "\"Jack Bauer\"\n",
      "Your score is 53, you are alright together.\n"
     ]
    }
   ],
   "source": [
    "name1 = input()\n",
    "name2 = input()\n",
    "name = name1+name2\n",
    "word1 = \"TRUE\"\n",
    "word2 = \"LOVE\"\n",
    "count_true = 0\n",
    "count_love = 0\n",
    "for i,j in zip(word1,word2):\n",
    "    count_true+=name.upper().count(i)\n",
    "    count_love+=name.upper().count(j)\n",
    "love_score = str(count_true)+str(count_love)\n",
    "love_score = int(love_score)\n",
    "if love_score < 10 or love_score > 90:\n",
    "    print(f\"Your score is {love_score}, you go together like coke and mentos.\")\n",
    "elif love_score >= 40 or love_score <= 50:\n",
    "    print(f\"Your score is {love_score}, you are alright together.\")\n",
    "else:\n",
    "    print(f\"Your score is {love_score}\")\n",
    "    "
   ]
  },
  {
   "cell_type": "markdown",
   "id": "a697a111",
   "metadata": {},
   "source": [
    "Write a program that works out whether if a given year is a leap year. A normal year has 365 days, leap years have 366, with an extra day in February. The reason why we have leap years is really fascinating, this video does it more justice.\n",
    "\n",
    "#### This is how you work out whether if a particular year is a leap year.\n",
    "```\n",
    "on every year that is divisible by 4 with no remainder\n",
    "\n",
    "except every year that is evenly divisible by 100 with no remainder\n",
    "\n",
    "unless the year is also divisible by 400 with no remainder\n",
    "```\n",
    "\n",
    "If english is not your first language or if the above logic is confusing, try using this flow chart ."
   ]
  },
  {
   "cell_type": "code",
   "execution_count": 4,
   "id": "ce981472",
   "metadata": {},
   "outputs": [
    {
     "name": "stdout",
     "output_type": "stream",
     "text": [
      "year: 2016\n",
      "Leap year\n"
     ]
    }
   ],
   "source": [
    "year = int(input(\"year: \"))\n",
    "if year%4 == 0:\n",
    "    if year%100 == 0:\n",
    "        if year%400==0:\n",
    "            print(\"Leap year\")\n",
    "        else:\n",
    "            print(\"Not leap year\")\n",
    "    else:\n",
    "        print(\"Leap year\")\n",
    "else:\n",
    "    print(\"Not leap year\")\n",
    "\n",
    "    \n",
    "\n",
    "\n",
    "        "
   ]
  },
  {
   "cell_type": "code",
   "execution_count": 43,
   "id": "a7094da4",
   "metadata": {},
   "outputs": [],
   "source": []
  },
  {
   "cell_type": "code",
   "execution_count": null,
   "id": "00a5ca90",
   "metadata": {},
   "outputs": [],
   "source": []
  }
 ],
 "metadata": {
  "kernelspec": {
   "display_name": "Python 3 (ipykernel)",
   "language": "python",
   "name": "python3"
  },
  "language_info": {
   "codemirror_mode": {
    "name": "ipython",
    "version": 3
   },
   "file_extension": ".py",
   "mimetype": "text/x-python",
   "name": "python",
   "nbconvert_exporter": "python",
   "pygments_lexer": "ipython3",
   "version": "3.9.7"
  }
 },
 "nbformat": 4,
 "nbformat_minor": 5
}
